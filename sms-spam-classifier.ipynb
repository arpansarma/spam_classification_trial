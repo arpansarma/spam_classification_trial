{
 "cells": [
  {
   "cell_type": "code",
   "execution_count": 2,
   "id": "4d5cceb8",
   "metadata": {},
   "outputs": [
    {
     "name": "stdout",
     "output_type": "stream",
     "text": [
      "Requirement already satisfied: altair==5.0.1 in c:\\users\\arpan\\appdata\\local\\programs\\python\\python310\\lib\\site-packages (from -r requirements.txt (line 1)) (5.0.1)\n",
      "Requirement already satisfied: anyio==3.7.1 in c:\\users\\arpan\\appdata\\local\\programs\\python\\python310\\lib\\site-packages (from -r requirements.txt (line 2)) (3.7.1)\n",
      "Requirement already satisfied: argon2-cffi==21.3.0 in c:\\users\\arpan\\appdata\\local\\programs\\python\\python310\\lib\\site-packages (from -r requirements.txt (line 3)) (21.3.0)\n",
      "Requirement already satisfied: argon2-cffi-bindings==21.2.0 in c:\\users\\arpan\\appdata\\local\\programs\\python\\python310\\lib\\site-packages (from -r requirements.txt (line 4)) (21.2.0)\n",
      "Requirement already satisfied: arrow==1.2.3 in c:\\users\\arpan\\appdata\\local\\programs\\python\\python310\\lib\\site-packages (from -r requirements.txt (line 5)) (1.2.3)\n",
      "Requirement already satisfied: asttokens==2.2.1 in c:\\users\\arpan\\appdata\\local\\programs\\python\\python310\\lib\\site-packages (from -r requirements.txt (line 6)) (2.2.1)\n",
      "Requirement already satisfied: attrs==23.1.0 in c:\\users\\arpan\\appdata\\local\\programs\\python\\python310\\lib\\site-packages (from -r requirements.txt (line 7)) (23.1.0)\n",
      "Requirement already satisfied: backcall==0.2.0 in c:\\users\\arpan\\appdata\\local\\programs\\python\\python310\\lib\\site-packages (from -r requirements.txt (line 8)) (0.2.0)\n",
      "Requirement already satisfied: beautifulsoup4==4.12.2 in c:\\users\\arpan\\appdata\\local\\programs\\python\\python310\\lib\\site-packages (from -r requirements.txt (line 9)) (4.12.2)\n",
      "Requirement already satisfied: bleach==6.0.0 in c:\\users\\arpan\\appdata\\local\\programs\\python\\python310\\lib\\site-packages (from -r requirements.txt (line 10)) (6.0.0)\n",
      "Requirement already satisfied: blinker==1.6.2 in c:\\users\\arpan\\appdata\\local\\programs\\python\\python310\\lib\\site-packages (from -r requirements.txt (line 11)) (1.6.2)\n",
      "Requirement already satisfied: cachetools==5.3.1 in c:\\users\\arpan\\appdata\\local\\programs\\python\\python310\\lib\\site-packages (from -r requirements.txt (line 12)) (5.3.1)\n",
      "Requirement already satisfied: certifi==2023.5.7 in c:\\users\\arpan\\appdata\\local\\programs\\python\\python310\\lib\\site-packages (from -r requirements.txt (line 13)) (2023.5.7)\n",
      "Requirement already satisfied: cffi==1.15.1 in c:\\users\\arpan\\appdata\\local\\programs\\python\\python310\\lib\\site-packages (from -r requirements.txt (line 14)) (1.15.1)\n",
      "Requirement already satisfied: charset-normalizer==3.2.0 in c:\\users\\arpan\\appdata\\local\\programs\\python\\python310\\lib\\site-packages (from -r requirements.txt (line 15)) (3.2.0)\n",
      "Requirement already satisfied: click==8.1.5 in c:\\users\\arpan\\appdata\\local\\programs\\python\\python310\\lib\\site-packages (from -r requirements.txt (line 16)) (8.1.5)\n",
      "Requirement already satisfied: colorama==0.4.6 in c:\\users\\arpan\\appdata\\local\\programs\\python\\python310\\lib\\site-packages (from -r requirements.txt (line 17)) (0.4.6)\n",
      "Requirement already satisfied: comm==0.1.3 in c:\\users\\arpan\\appdata\\local\\programs\\python\\python310\\lib\\site-packages (from -r requirements.txt (line 18)) (0.1.3)\n",
      "Requirement already satisfied: debugpy==1.6.7 in c:\\users\\arpan\\appdata\\local\\programs\\python\\python310\\lib\\site-packages (from -r requirements.txt (line 19)) (1.6.7)\n",
      "Requirement already satisfied: decorator==5.1.1 in c:\\users\\arpan\\appdata\\local\\programs\\python\\python310\\lib\\site-packages (from -r requirements.txt (line 20)) (5.1.1)\n",
      "Requirement already satisfied: defusedxml==0.7.1 in c:\\users\\arpan\\appdata\\local\\programs\\python\\python310\\lib\\site-packages (from -r requirements.txt (line 21)) (0.7.1)\n",
      "Requirement already satisfied: exceptiongroup==1.1.2 in c:\\users\\arpan\\appdata\\local\\programs\\python\\python310\\lib\\site-packages (from -r requirements.txt (line 22)) (1.1.2)\n",
      "Requirement already satisfied: executing==1.2.0 in c:\\users\\arpan\\appdata\\local\\programs\\python\\python310\\lib\\site-packages (from -r requirements.txt (line 23)) (1.2.0)\n",
      "Requirement already satisfied: fastjsonschema==2.17.1 in c:\\users\\arpan\\appdata\\local\\programs\\python\\python310\\lib\\site-packages (from -r requirements.txt (line 24)) (2.17.1)\n",
      "Requirement already satisfied: fqdn==1.5.1 in c:\\users\\arpan\\appdata\\local\\programs\\python\\python310\\lib\\site-packages (from -r requirements.txt (line 25)) (1.5.1)\n",
      "Requirement already satisfied: gitdb==4.0.10 in c:\\users\\arpan\\appdata\\local\\programs\\python\\python310\\lib\\site-packages (from -r requirements.txt (line 26)) (4.0.10)\n",
      "Requirement already satisfied: GitPython==3.1.32 in c:\\users\\arpan\\appdata\\local\\programs\\python\\python310\\lib\\site-packages (from -r requirements.txt (line 27)) (3.1.32)\n",
      "Requirement already satisfied: idna==3.4 in c:\\users\\arpan\\appdata\\local\\programs\\python\\python310\\lib\\site-packages (from -r requirements.txt (line 28)) (3.4)\n",
      "Requirement already satisfied: importlib-metadata==6.8.0 in c:\\users\\arpan\\appdata\\local\\programs\\python\\python310\\lib\\site-packages (from -r requirements.txt (line 29)) (6.8.0)\n",
      "Requirement already satisfied: ipykernel==6.24.0 in c:\\users\\arpan\\appdata\\local\\programs\\python\\python310\\lib\\site-packages (from -r requirements.txt (line 30)) (6.24.0)\n",
      "Requirement already satisfied: ipython==8.14.0 in c:\\users\\arpan\\appdata\\local\\programs\\python\\python310\\lib\\site-packages (from -r requirements.txt (line 31)) (8.14.0)\n",
      "Requirement already satisfied: ipython-genutils==0.2.0 in c:\\users\\arpan\\appdata\\local\\programs\\python\\python310\\lib\\site-packages (from -r requirements.txt (line 32)) (0.2.0)\n",
      "Requirement already satisfied: ipywidgets==8.0.7 in c:\\users\\arpan\\appdata\\local\\programs\\python\\python310\\lib\\site-packages (from -r requirements.txt (line 33)) (8.0.7)\n",
      "Requirement already satisfied: isoduration==20.11.0 in c:\\users\\arpan\\appdata\\local\\programs\\python\\python310\\lib\\site-packages (from -r requirements.txt (line 34)) (20.11.0)\n",
      "Requirement already satisfied: jedi==0.18.2 in c:\\users\\arpan\\appdata\\local\\programs\\python\\python310\\lib\\site-packages (from -r requirements.txt (line 35)) (0.18.2)\n",
      "Requirement already satisfied: Jinja2==3.1.2 in c:\\users\\arpan\\appdata\\local\\programs\\python\\python310\\lib\\site-packages (from -r requirements.txt (line 36)) (3.1.2)\n",
      "Requirement already satisfied: joblib==1.3.1 in c:\\users\\arpan\\appdata\\local\\programs\\python\\python310\\lib\\site-packages (from -r requirements.txt (line 37)) (1.3.1)\n",
      "Requirement already satisfied: jsonpointer==2.4 in c:\\users\\arpan\\appdata\\local\\programs\\python\\python310\\lib\\site-packages (from -r requirements.txt (line 38)) (2.4)\n",
      "Requirement already satisfied: jsonschema==4.18.3 in c:\\users\\arpan\\appdata\\local\\programs\\python\\python310\\lib\\site-packages (from -r requirements.txt (line 39)) (4.18.3)\n",
      "Requirement already satisfied: jsonschema-specifications==2023.6.1 in c:\\users\\arpan\\appdata\\local\\programs\\python\\python310\\lib\\site-packages (from -r requirements.txt (line 40)) (2023.6.1)\n",
      "Requirement already satisfied: jupyter==1.0.0 in c:\\users\\arpan\\appdata\\local\\programs\\python\\python310\\lib\\site-packages (from -r requirements.txt (line 41)) (1.0.0)\n",
      "Requirement already satisfied: jupyter-console==6.6.3 in c:\\users\\arpan\\appdata\\local\\programs\\python\\python310\\lib\\site-packages (from -r requirements.txt (line 42)) (6.6.3)\n",
      "Requirement already satisfied: jupyter-events==0.6.3 in c:\\users\\arpan\\appdata\\local\\programs\\python\\python310\\lib\\site-packages (from -r requirements.txt (line 43)) (0.6.3)\n",
      "Requirement already satisfied: jupyter_client==8.3.0 in c:\\users\\arpan\\appdata\\local\\programs\\python\\python310\\lib\\site-packages (from -r requirements.txt (line 44)) (8.3.0)\n",
      "Requirement already satisfied: jupyter_core==5.3.1 in c:\\users\\arpan\\appdata\\local\\programs\\python\\python310\\lib\\site-packages (from -r requirements.txt (line 45)) (5.3.1)\n",
      "Requirement already satisfied: jupyter_server==2.7.0 in c:\\users\\arpan\\appdata\\local\\programs\\python\\python310\\lib\\site-packages (from -r requirements.txt (line 46)) (2.7.0)\n",
      "Requirement already satisfied: jupyter_server_terminals==0.4.4 in c:\\users\\arpan\\appdata\\local\\programs\\python\\python310\\lib\\site-packages (from -r requirements.txt (line 47)) (0.4.4)\n",
      "Requirement already satisfied: jupyterlab-pygments==0.2.2 in c:\\users\\arpan\\appdata\\local\\programs\\python\\python310\\lib\\site-packages (from -r requirements.txt (line 48)) (0.2.2)\n",
      "Requirement already satisfied: jupyterlab-widgets==3.0.8 in c:\\users\\arpan\\appdata\\local\\programs\\python\\python310\\lib\\site-packages (from -r requirements.txt (line 49)) (3.0.8)\n",
      "Requirement already satisfied: markdown-it-py==3.0.0 in c:\\users\\arpan\\appdata\\local\\programs\\python\\python310\\lib\\site-packages (from -r requirements.txt (line 50)) (3.0.0)\n",
      "Requirement already satisfied: MarkupSafe==2.1.3 in c:\\users\\arpan\\appdata\\local\\programs\\python\\python310\\lib\\site-packages (from -r requirements.txt (line 51)) (2.1.3)\n",
      "Requirement already satisfied: matplotlib-inline==0.1.6 in c:\\users\\arpan\\appdata\\local\\programs\\python\\python310\\lib\\site-packages (from -r requirements.txt (line 52)) (0.1.6)\n",
      "Requirement already satisfied: mdurl==0.1.2 in c:\\users\\arpan\\appdata\\local\\programs\\python\\python310\\lib\\site-packages (from -r requirements.txt (line 53)) (0.1.2)\n",
      "Requirement already satisfied: mistune==3.0.1 in c:\\users\\arpan\\appdata\\local\\programs\\python\\python310\\lib\\site-packages (from -r requirements.txt (line 54)) (3.0.1)\n",
      "Requirement already satisfied: nbclassic==1.0.0 in c:\\users\\arpan\\appdata\\local\\programs\\python\\python310\\lib\\site-packages (from -r requirements.txt (line 55)) (1.0.0)\n",
      "Requirement already satisfied: nbclient==0.8.0 in c:\\users\\arpan\\appdata\\local\\programs\\python\\python310\\lib\\site-packages (from -r requirements.txt (line 56)) (0.8.0)\n",
      "Requirement already satisfied: nbconvert==7.6.0 in c:\\users\\arpan\\appdata\\local\\programs\\python\\python310\\lib\\site-packages (from -r requirements.txt (line 57)) (7.6.0)\n",
      "Requirement already satisfied: nbformat==5.9.1 in c:\\users\\arpan\\appdata\\local\\programs\\python\\python310\\lib\\site-packages (from -r requirements.txt (line 58)) (5.9.1)\n",
      "Requirement already satisfied: nest-asyncio==1.5.6 in c:\\users\\arpan\\appdata\\local\\programs\\python\\python310\\lib\\site-packages (from -r requirements.txt (line 59)) (1.5.6)\n",
      "Requirement already satisfied: nltk==3.8.1 in c:\\users\\arpan\\appdata\\local\\programs\\python\\python310\\lib\\site-packages (from -r requirements.txt (line 60)) (3.8.1)\n",
      "Requirement already satisfied: notebook==6.5.4 in c:\\users\\arpan\\appdata\\local\\programs\\python\\python310\\lib\\site-packages (from -r requirements.txt (line 61)) (6.5.4)\n",
      "Requirement already satisfied: notebook_shim==0.2.3 in c:\\users\\arpan\\appdata\\local\\programs\\python\\python310\\lib\\site-packages (from -r requirements.txt (line 62)) (0.2.3)\n",
      "Requirement already satisfied: numpy==1.25.1 in c:\\users\\arpan\\appdata\\local\\programs\\python\\python310\\lib\\site-packages (from -r requirements.txt (line 63)) (1.25.1)\n",
      "Requirement already satisfied: overrides==7.3.1 in c:\\users\\arpan\\appdata\\local\\programs\\python\\python310\\lib\\site-packages (from -r requirements.txt (line 64)) (7.3.1)\n",
      "Requirement already satisfied: packaging==23.1 in c:\\users\\arpan\\appdata\\local\\programs\\python\\python310\\lib\\site-packages (from -r requirements.txt (line 65)) (23.1)\n",
      "Requirement already satisfied: panda==0.3.1 in c:\\users\\arpan\\appdata\\local\\programs\\python\\python310\\lib\\site-packages (from -r requirements.txt (line 66)) (0.3.1)\n",
      "Requirement already satisfied: pandas==2.0.3 in c:\\users\\arpan\\appdata\\local\\programs\\python\\python310\\lib\\site-packages (from -r requirements.txt (line 67)) (2.0.3)\n",
      "Requirement already satisfied: pandocfilters==1.5.0 in c:\\users\\arpan\\appdata\\local\\programs\\python\\python310\\lib\\site-packages (from -r requirements.txt (line 68)) (1.5.0)\n",
      "Requirement already satisfied: parso==0.8.3 in c:\\users\\arpan\\appdata\\local\\programs\\python\\python310\\lib\\site-packages (from -r requirements.txt (line 69)) (0.8.3)\n",
      "Requirement already satisfied: pickleshare==0.7.5 in c:\\users\\arpan\\appdata\\local\\programs\\python\\python310\\lib\\site-packages (from -r requirements.txt (line 70)) (0.7.5)\n",
      "Requirement already satisfied: Pillow==9.5.0 in c:\\users\\arpan\\appdata\\local\\programs\\python\\python310\\lib\\site-packages (from -r requirements.txt (line 71)) (9.5.0)\n",
      "Requirement already satisfied: platformdirs==3.9.0 in c:\\users\\arpan\\appdata\\local\\programs\\python\\python310\\lib\\site-packages (from -r requirements.txt (line 72)) (3.9.0)\n",
      "Requirement already satisfied: prometheus-client==0.17.1 in c:\\users\\arpan\\appdata\\local\\programs\\python\\python310\\lib\\site-packages (from -r requirements.txt (line 73)) (0.17.1)\n",
      "Requirement already satisfied: prompt-toolkit==3.0.39 in c:\\users\\arpan\\appdata\\local\\programs\\python\\python310\\lib\\site-packages (from -r requirements.txt (line 74)) (3.0.39)\n",
      "Requirement already satisfied: protobuf==4.23.4 in c:\\users\\arpan\\appdata\\local\\programs\\python\\python310\\lib\\site-packages (from -r requirements.txt (line 75)) (4.23.4)\n",
      "Requirement already satisfied: psutil==5.9.5 in c:\\users\\arpan\\appdata\\local\\programs\\python\\python310\\lib\\site-packages (from -r requirements.txt (line 76)) (5.9.5)\n",
      "Requirement already satisfied: pure-eval==0.2.2 in c:\\users\\arpan\\appdata\\local\\programs\\python\\python310\\lib\\site-packages (from -r requirements.txt (line 77)) (0.2.2)\n",
      "Requirement already satisfied: pyarrow==12.0.1 in c:\\users\\arpan\\appdata\\local\\programs\\python\\python310\\lib\\site-packages (from -r requirements.txt (line 78)) (12.0.1)\n",
      "Requirement already satisfied: pycparser==2.21 in c:\\users\\arpan\\appdata\\local\\programs\\python\\python310\\lib\\site-packages (from -r requirements.txt (line 79)) (2.21)\n",
      "Requirement already satisfied: pydeck==0.8.1b0 in c:\\users\\arpan\\appdata\\local\\programs\\python\\python310\\lib\\site-packages (from -r requirements.txt (line 80)) (0.8.1b0)\n",
      "Requirement already satisfied: Pygments==2.15.1 in c:\\users\\arpan\\appdata\\local\\programs\\python\\python310\\lib\\site-packages (from -r requirements.txt (line 81)) (2.15.1)\n",
      "Requirement already satisfied: Pympler==1.0.1 in c:\\users\\arpan\\appdata\\local\\programs\\python\\python310\\lib\\site-packages (from -r requirements.txt (line 82)) (1.0.1)\n",
      "Requirement already satisfied: python-dateutil==2.8.2 in c:\\users\\arpan\\appdata\\local\\programs\\python\\python310\\lib\\site-packages (from -r requirements.txt (line 83)) (2.8.2)\n",
      "Requirement already satisfied: python-json-logger==2.0.7 in c:\\users\\arpan\\appdata\\local\\programs\\python\\python310\\lib\\site-packages (from -r requirements.txt (line 84)) (2.0.7)\n",
      "Requirement already satisfied: pytz==2023.3 in c:\\users\\arpan\\appdata\\local\\programs\\python\\python310\\lib\\site-packages (from -r requirements.txt (line 85)) (2023.3)\n",
      "Requirement already satisfied: pytz-deprecation-shim==0.1.0.post0 in c:\\users\\arpan\\appdata\\local\\programs\\python\\python310\\lib\\site-packages (from -r requirements.txt (line 86)) (0.1.0.post0)\n",
      "Requirement already satisfied: pywin32 in c:\\users\\arpan\\appdata\\local\\programs\\python\\python310\\lib\\site-packages (from -r requirements.txt (line 87)) (306)\n",
      "Requirement already satisfied: pywinpty==2.0.11 in c:\\users\\arpan\\appdata\\local\\programs\\python\\python310\\lib\\site-packages (from -r requirements.txt (line 88)) (2.0.11)\n",
      "Requirement already satisfied: PyYAML==6.0 in c:\\users\\arpan\\appdata\\local\\programs\\python\\python310\\lib\\site-packages (from -r requirements.txt (line 89)) (6.0)\n",
      "Requirement already satisfied: pyzmq==25.1.0 in c:\\users\\arpan\\appdata\\local\\programs\\python\\python310\\lib\\site-packages (from -r requirements.txt (line 90)) (25.1.0)\n",
      "Requirement already satisfied: qtconsole==5.4.3 in c:\\users\\arpan\\appdata\\local\\programs\\python\\python310\\lib\\site-packages (from -r requirements.txt (line 91)) (5.4.3)\n",
      "Requirement already satisfied: QtPy==2.3.1 in c:\\users\\arpan\\appdata\\local\\programs\\python\\python310\\lib\\site-packages (from -r requirements.txt (line 92)) (2.3.1)\n",
      "Requirement already satisfied: referencing==0.29.1 in c:\\users\\arpan\\appdata\\local\\programs\\python\\python310\\lib\\site-packages (from -r requirements.txt (line 93)) (0.29.1)\n",
      "Requirement already satisfied: regex==2023.6.3 in c:\\users\\arpan\\appdata\\local\\programs\\python\\python310\\lib\\site-packages (from -r requirements.txt (line 94)) (2023.6.3)\n",
      "Requirement already satisfied: requests==2.31.0 in c:\\users\\arpan\\appdata\\local\\programs\\python\\python310\\lib\\site-packages (from -r requirements.txt (line 95)) (2.31.0)\n",
      "Requirement already satisfied: rfc3339-validator==0.1.4 in c:\\users\\arpan\\appdata\\local\\programs\\python\\python310\\lib\\site-packages (from -r requirements.txt (line 96)) (0.1.4)\n",
      "Requirement already satisfied: rfc3986-validator==0.1.1 in c:\\users\\arpan\\appdata\\local\\programs\\python\\python310\\lib\\site-packages (from -r requirements.txt (line 97)) (0.1.1)\n",
      "Requirement already satisfied: rich==13.4.2 in c:\\users\\arpan\\appdata\\local\\programs\\python\\python310\\lib\\site-packages (from -r requirements.txt (line 98)) (13.4.2)\n",
      "Requirement already satisfied: rpds-py==0.8.10 in c:\\users\\arpan\\appdata\\local\\programs\\python\\python310\\lib\\site-packages (from -r requirements.txt (line 99)) (0.8.10)\n",
      "Requirement already satisfied: scikit-learn==1.3.0 in c:\\users\\arpan\\appdata\\local\\programs\\python\\python310\\lib\\site-packages (from -r requirements.txt (line 100)) (1.3.0)\n",
      "Requirement already satisfied: scipy==1.11.1 in c:\\users\\arpan\\appdata\\local\\programs\\python\\python310\\lib\\site-packages (from -r requirements.txt (line 101)) (1.11.1)\n",
      "Requirement already satisfied: Send2Trash==1.8.2 in c:\\users\\arpan\\appdata\\local\\programs\\python\\python310\\lib\\site-packages (from -r requirements.txt (line 102)) (1.8.2)\n",
      "Requirement already satisfied: six==1.16.0 in c:\\users\\arpan\\appdata\\local\\programs\\python\\python310\\lib\\site-packages (from -r requirements.txt (line 103)) (1.16.0)\n",
      "Requirement already satisfied: sklearn==0.0.post5 in c:\\users\\arpan\\appdata\\local\\programs\\python\\python310\\lib\\site-packages (from -r requirements.txt (line 104)) (0.0.post5)\n",
      "Requirement already satisfied: smmap==5.0.0 in c:\\users\\arpan\\appdata\\local\\programs\\python\\python310\\lib\\site-packages (from -r requirements.txt (line 105)) (5.0.0)\n",
      "Requirement already satisfied: sniffio==1.3.0 in c:\\users\\arpan\\appdata\\local\\programs\\python\\python310\\lib\\site-packages (from -r requirements.txt (line 106)) (1.3.0)\n",
      "Requirement already satisfied: soupsieve==2.4.1 in c:\\users\\arpan\\appdata\\local\\programs\\python\\python310\\lib\\site-packages (from -r requirements.txt (line 107)) (2.4.1)\n",
      "Requirement already satisfied: stack-data==0.6.2 in c:\\users\\arpan\\appdata\\local\\programs\\python\\python310\\lib\\site-packages (from -r requirements.txt (line 108)) (0.6.2)\n",
      "Requirement already satisfied: streamlit==1.24.1 in c:\\users\\arpan\\appdata\\local\\programs\\python\\python310\\lib\\site-packages (from -r requirements.txt (line 109)) (1.24.1)\n",
      "Requirement already satisfied: tenacity==8.2.2 in c:\\users\\arpan\\appdata\\local\\programs\\python\\python310\\lib\\site-packages (from -r requirements.txt (line 110)) (8.2.2)\n",
      "Requirement already satisfied: terminado==0.17.1 in c:\\users\\arpan\\appdata\\local\\programs\\python\\python310\\lib\\site-packages (from -r requirements.txt (line 111)) (0.17.1)\n",
      "Requirement already satisfied: threadpoolctl==3.2.0 in c:\\users\\arpan\\appdata\\local\\programs\\python\\python310\\lib\\site-packages (from -r requirements.txt (line 112)) (3.2.0)\n",
      "Requirement already satisfied: tinycss2==1.2.1 in c:\\users\\arpan\\appdata\\local\\programs\\python\\python310\\lib\\site-packages (from -r requirements.txt (line 113)) (1.2.1)\n",
      "Requirement already satisfied: toml==0.10.2 in c:\\users\\arpan\\appdata\\local\\programs\\python\\python310\\lib\\site-packages (from -r requirements.txt (line 114)) (0.10.2)\n",
      "Requirement already satisfied: toolz==0.12.0 in c:\\users\\arpan\\appdata\\local\\programs\\python\\python310\\lib\\site-packages (from -r requirements.txt (line 115)) (0.12.0)\n",
      "Requirement already satisfied: tornado==6.3.2 in c:\\users\\arpan\\appdata\\local\\programs\\python\\python310\\lib\\site-packages (from -r requirements.txt (line 116)) (6.3.2)\n",
      "Requirement already satisfied: tqdm==4.65.0 in c:\\users\\arpan\\appdata\\local\\programs\\python\\python310\\lib\\site-packages (from -r requirements.txt (line 117)) (4.65.0)\n",
      "Requirement already satisfied: traitlets==5.9.0 in c:\\users\\arpan\\appdata\\local\\programs\\python\\python310\\lib\\site-packages (from -r requirements.txt (line 118)) (5.9.0)\n",
      "Requirement already satisfied: typing_extensions==4.7.1 in c:\\users\\arpan\\appdata\\local\\programs\\python\\python310\\lib\\site-packages (from -r requirements.txt (line 119)) (4.7.1)\n",
      "Requirement already satisfied: tzdata==2023.3 in c:\\users\\arpan\\appdata\\local\\programs\\python\\python310\\lib\\site-packages (from -r requirements.txt (line 120)) (2023.3)\n",
      "Requirement already satisfied: tzlocal==4.3.1 in c:\\users\\arpan\\appdata\\local\\programs\\python\\python310\\lib\\site-packages (from -r requirements.txt (line 121)) (4.3.1)\n",
      "Requirement already satisfied: uri-template==1.3.0 in c:\\users\\arpan\\appdata\\local\\programs\\python\\python310\\lib\\site-packages (from -r requirements.txt (line 122)) (1.3.0)\n",
      "Requirement already satisfied: urllib3==2.0.3 in c:\\users\\arpan\\appdata\\local\\programs\\python\\python310\\lib\\site-packages (from -r requirements.txt (line 123)) (2.0.3)\n",
      "Requirement already satisfied: validators==0.20.0 in c:\\users\\arpan\\appdata\\local\\programs\\python\\python310\\lib\\site-packages (from -r requirements.txt (line 124)) (0.20.0)\n",
      "Requirement already satisfied: watchdog==3.0.0 in c:\\users\\arpan\\appdata\\local\\programs\\python\\python310\\lib\\site-packages (from -r requirements.txt (line 125)) (3.0.0)\n",
      "Requirement already satisfied: wcwidth==0.2.6 in c:\\users\\arpan\\appdata\\local\\programs\\python\\python310\\lib\\site-packages (from -r requirements.txt (line 126)) (0.2.6)\n",
      "Requirement already satisfied: webcolors==1.13 in c:\\users\\arpan\\appdata\\local\\programs\\python\\python310\\lib\\site-packages (from -r requirements.txt (line 127)) (1.13)\n",
      "Requirement already satisfied: webencodings==0.5.1 in c:\\users\\arpan\\appdata\\local\\programs\\python\\python310\\lib\\site-packages (from -r requirements.txt (line 128)) (0.5.1)\n",
      "Requirement already satisfied: websocket-client==1.6.1 in c:\\users\\arpan\\appdata\\local\\programs\\python\\python310\\lib\\site-packages (from -r requirements.txt (line 129)) (1.6.1)\n",
      "Requirement already satisfied: widgetsnbextension==4.0.8 in c:\\users\\arpan\\appdata\\local\\programs\\python\\python310\\lib\\site-packages (from -r requirements.txt (line 130)) (4.0.8)\n",
      "Requirement already satisfied: xgboost==1.7.6 in c:\\users\\arpan\\appdata\\local\\programs\\python\\python310\\lib\\site-packages (from -r requirements.txt (line 131)) (1.7.6)\n",
      "Requirement already satisfied: zipp==3.16.2 in c:\\users\\arpan\\appdata\\local\\programs\\python\\python310\\lib\\site-packages (from -r requirements.txt (line 132)) (3.16.2)\n",
      "Requirement already satisfied: setuptools in c:\\users\\arpan\\appdata\\local\\programs\\python\\python310\\lib\\site-packages (from panda==0.3.1->-r requirements.txt (line 66)) (65.5.0)\n"
     ]
    }
   ],
   "source": [
    "%pip install -r requirements.txt\n",
    "# importing the Dataset\n",
    "import numpy as np\n",
    "import pandas as pd\n",
    "\n",
    "df = pd.read_csv('SMSSpamCollection', sep='\\t',\n",
    "                           names=[\"label\", \"message\"])\n",
    "\n",
    "\n"
   ]
  },
  {
   "cell_type": "code",
   "execution_count": 3,
   "id": "8f6682de",
   "metadata": {},
   "outputs": [
    {
     "data": {
      "text/html": [
       "<div>\n",
       "<style scoped>\n",
       "    .dataframe tbody tr th:only-of-type {\n",
       "        vertical-align: middle;\n",
       "    }\n",
       "\n",
       "    .dataframe tbody tr th {\n",
       "        vertical-align: top;\n",
       "    }\n",
       "\n",
       "    .dataframe thead th {\n",
       "        text-align: right;\n",
       "    }\n",
       "</style>\n",
       "<table border=\"1\" class=\"dataframe\">\n",
       "  <thead>\n",
       "    <tr style=\"text-align: right;\">\n",
       "      <th></th>\n",
       "      <th>label</th>\n",
       "      <th>message</th>\n",
       "    </tr>\n",
       "  </thead>\n",
       "  <tbody>\n",
       "    <tr>\n",
       "      <th>4651</th>\n",
       "      <td>ham</td>\n",
       "      <td>Finally it has happened..! Aftr decades..! BEE...</td>\n",
       "    </tr>\n",
       "    <tr>\n",
       "      <th>4008</th>\n",
       "      <td>ham</td>\n",
       "      <td>I'm reaching home in 5 min.</td>\n",
       "    </tr>\n",
       "    <tr>\n",
       "      <th>4141</th>\n",
       "      <td>ham</td>\n",
       "      <td>Leave it wif me lar... Ü wan to carry meh so h...</td>\n",
       "    </tr>\n",
       "    <tr>\n",
       "      <th>3624</th>\n",
       "      <td>ham</td>\n",
       "      <td>Damn, poor zac doesn't stand a chance</td>\n",
       "    </tr>\n",
       "    <tr>\n",
       "      <th>4383</th>\n",
       "      <td>ham</td>\n",
       "      <td>yeah sure thing mate haunt got all my stuff so...</td>\n",
       "    </tr>\n",
       "  </tbody>\n",
       "</table>\n",
       "</div>"
      ],
      "text/plain": [
       "     label                                            message\n",
       "4651   ham  Finally it has happened..! Aftr decades..! BEE...\n",
       "4008   ham                        I'm reaching home in 5 min.\n",
       "4141   ham  Leave it wif me lar... Ü wan to carry meh so h...\n",
       "3624   ham              Damn, poor zac doesn't stand a chance\n",
       "4383   ham  yeah sure thing mate haunt got all my stuff so..."
      ]
     },
     "execution_count": 3,
     "metadata": {},
     "output_type": "execute_result"
    }
   ],
   "source": [
    "df.sample(5)"
   ]
  },
  {
   "cell_type": "code",
   "execution_count": 4,
   "id": "24b4c6f7",
   "metadata": {},
   "outputs": [
    {
     "data": {
      "text/plain": [
       "(5572, 2)"
      ]
     },
     "execution_count": 4,
     "metadata": {},
     "output_type": "execute_result"
    }
   ],
   "source": [
    "df.shape"
   ]
  },
  {
   "cell_type": "code",
   "execution_count": 5,
   "id": "29f3a42f",
   "metadata": {},
   "outputs": [],
   "source": [
    "# 1. Data cleaning\n",
    "# 2. EDA\n",
    "# 3. Text Preprocessing\n",
    "# 4. Model building\n",
    "# 5. Evaluation\n",
    "# 6. Improvement\n",
    "# 7. Website\n",
    "# 8. Deploy"
   ]
  },
  {
   "cell_type": "markdown",
   "id": "353ba532",
   "metadata": {},
   "source": [
    "1. Data Cleaning"
   ]
  },
  {
   "cell_type": "code",
   "execution_count": 6,
   "id": "3a0899ca",
   "metadata": {},
   "outputs": [
    {
     "name": "stdout",
     "output_type": "stream",
     "text": [
      "<class 'pandas.core.frame.DataFrame'>\n",
      "RangeIndex: 5572 entries, 0 to 5571\n",
      "Data columns (total 2 columns):\n",
      " #   Column   Non-Null Count  Dtype \n",
      "---  ------   --------------  ----- \n",
      " 0   label    5572 non-null   object\n",
      " 1   message  5572 non-null   object\n",
      "dtypes: object(2)\n",
      "memory usage: 87.2+ KB\n"
     ]
    }
   ],
   "source": [
    "df.info()"
   ]
  },
  {
   "cell_type": "code",
   "execution_count": 7,
   "id": "10acdc40",
   "metadata": {},
   "outputs": [
    {
     "data": {
      "text/html": [
       "<div>\n",
       "<style scoped>\n",
       "    .dataframe tbody tr th:only-of-type {\n",
       "        vertical-align: middle;\n",
       "    }\n",
       "\n",
       "    .dataframe tbody tr th {\n",
       "        vertical-align: top;\n",
       "    }\n",
       "\n",
       "    .dataframe thead th {\n",
       "        text-align: right;\n",
       "    }\n",
       "</style>\n",
       "<table border=\"1\" class=\"dataframe\">\n",
       "  <thead>\n",
       "    <tr style=\"text-align: right;\">\n",
       "      <th></th>\n",
       "      <th>target</th>\n",
       "      <th>text</th>\n",
       "    </tr>\n",
       "  </thead>\n",
       "  <tbody>\n",
       "    <tr>\n",
       "      <th>3369</th>\n",
       "      <td>ham</td>\n",
       "      <td>Hey elaine, is today's meeting still on?</td>\n",
       "    </tr>\n",
       "    <tr>\n",
       "      <th>3791</th>\n",
       "      <td>ham</td>\n",
       "      <td>I love you !!! You know? Can you feel it? Does...</td>\n",
       "    </tr>\n",
       "    <tr>\n",
       "      <th>1930</th>\n",
       "      <td>spam</td>\n",
       "      <td>Free 1st week entry 2 TEXTPOD 4 a chance 2 win...</td>\n",
       "    </tr>\n",
       "    <tr>\n",
       "      <th>1411</th>\n",
       "      <td>ham</td>\n",
       "      <td>Pls speak to that customer machan.</td>\n",
       "    </tr>\n",
       "    <tr>\n",
       "      <th>5383</th>\n",
       "      <td>ham</td>\n",
       "      <td>Good day to You too.Pray for me.Remove the tee...</td>\n",
       "    </tr>\n",
       "  </tbody>\n",
       "</table>\n",
       "</div>"
      ],
      "text/plain": [
       "     target                                               text\n",
       "3369    ham           Hey elaine, is today's meeting still on?\n",
       "3791    ham  I love you !!! You know? Can you feel it? Does...\n",
       "1930   spam  Free 1st week entry 2 TEXTPOD 4 a chance 2 win...\n",
       "1411    ham                 Pls speak to that customer machan.\n",
       "5383    ham  Good day to You too.Pray for me.Remove the tee..."
      ]
     },
     "execution_count": 7,
     "metadata": {},
     "output_type": "execute_result"
    }
   ],
   "source": [
    "# renaming the cols\n",
    "df.rename(columns={'label':'target','message':'text'},inplace=True)\n",
    "df.sample(5)"
   ]
  },
  {
   "cell_type": "code",
   "execution_count": 8,
   "id": "a0065193",
   "metadata": {},
   "outputs": [],
   "source": [
    "from sklearn.preprocessing import LabelEncoder\n",
    "encoder = LabelEncoder()"
   ]
  },
  {
   "cell_type": "code",
   "execution_count": 9,
   "id": "632ffef5",
   "metadata": {},
   "outputs": [],
   "source": [
    "df['target'] = encoder.fit_transform(df['target'])"
   ]
  },
  {
   "cell_type": "code",
   "execution_count": 10,
   "id": "3de90fa4",
   "metadata": {},
   "outputs": [
    {
     "data": {
      "text/html": [
       "<div>\n",
       "<style scoped>\n",
       "    .dataframe tbody tr th:only-of-type {\n",
       "        vertical-align: middle;\n",
       "    }\n",
       "\n",
       "    .dataframe tbody tr th {\n",
       "        vertical-align: top;\n",
       "    }\n",
       "\n",
       "    .dataframe thead th {\n",
       "        text-align: right;\n",
       "    }\n",
       "</style>\n",
       "<table border=\"1\" class=\"dataframe\">\n",
       "  <thead>\n",
       "    <tr style=\"text-align: right;\">\n",
       "      <th></th>\n",
       "      <th>target</th>\n",
       "      <th>text</th>\n",
       "    </tr>\n",
       "  </thead>\n",
       "  <tbody>\n",
       "    <tr>\n",
       "      <th>0</th>\n",
       "      <td>0</td>\n",
       "      <td>Go until jurong point, crazy.. Available only ...</td>\n",
       "    </tr>\n",
       "    <tr>\n",
       "      <th>1</th>\n",
       "      <td>0</td>\n",
       "      <td>Ok lar... Joking wif u oni...</td>\n",
       "    </tr>\n",
       "    <tr>\n",
       "      <th>2</th>\n",
       "      <td>1</td>\n",
       "      <td>Free entry in 2 a wkly comp to win FA Cup fina...</td>\n",
       "    </tr>\n",
       "    <tr>\n",
       "      <th>3</th>\n",
       "      <td>0</td>\n",
       "      <td>U dun say so early hor... U c already then say...</td>\n",
       "    </tr>\n",
       "    <tr>\n",
       "      <th>4</th>\n",
       "      <td>0</td>\n",
       "      <td>Nah I don't think he goes to usf, he lives aro...</td>\n",
       "    </tr>\n",
       "  </tbody>\n",
       "</table>\n",
       "</div>"
      ],
      "text/plain": [
       "   target                                               text\n",
       "0       0  Go until jurong point, crazy.. Available only ...\n",
       "1       0                      Ok lar... Joking wif u oni...\n",
       "2       1  Free entry in 2 a wkly comp to win FA Cup fina...\n",
       "3       0  U dun say so early hor... U c already then say...\n",
       "4       0  Nah I don't think he goes to usf, he lives aro..."
      ]
     },
     "execution_count": 10,
     "metadata": {},
     "output_type": "execute_result"
    }
   ],
   "source": [
    "df.head()"
   ]
  },
  {
   "cell_type": "code",
   "execution_count": 11,
   "id": "b82fdcc4",
   "metadata": {},
   "outputs": [
    {
     "data": {
      "text/plain": [
       "target    0\n",
       "text      0\n",
       "dtype: int64"
      ]
     },
     "execution_count": 11,
     "metadata": {},
     "output_type": "execute_result"
    }
   ],
   "source": [
    "# missing values\n",
    "df.isnull().sum()"
   ]
  },
  {
   "cell_type": "code",
   "execution_count": 12,
   "id": "588ff33a",
   "metadata": {},
   "outputs": [
    {
     "data": {
      "text/plain": [
       "403"
      ]
     },
     "execution_count": 12,
     "metadata": {},
     "output_type": "execute_result"
    }
   ],
   "source": [
    "# check for duplicate values\n",
    "df.duplicated().sum()"
   ]
  },
  {
   "cell_type": "code",
   "execution_count": 13,
   "id": "eb62071d",
   "metadata": {},
   "outputs": [],
   "source": [
    "# remove duplicates\n",
    "df = df.drop_duplicates(keep='first')"
   ]
  },
  {
   "cell_type": "code",
   "execution_count": 14,
   "id": "3299f7de",
   "metadata": {},
   "outputs": [
    {
     "data": {
      "text/plain": [
       "0"
      ]
     },
     "execution_count": 14,
     "metadata": {},
     "output_type": "execute_result"
    }
   ],
   "source": [
    "df.duplicated().sum()"
   ]
  },
  {
   "cell_type": "code",
   "execution_count": 15,
   "id": "dee94b58",
   "metadata": {},
   "outputs": [
    {
     "data": {
      "text/plain": [
       "(5169, 2)"
      ]
     },
     "execution_count": 15,
     "metadata": {},
     "output_type": "execute_result"
    }
   ],
   "source": [
    "df.shape"
   ]
  },
  {
   "cell_type": "markdown",
   "id": "00ce389c",
   "metadata": {},
   "source": [
    "2.EDA"
   ]
  },
  {
   "cell_type": "code",
   "execution_count": 16,
   "id": "eee376ed",
   "metadata": {},
   "outputs": [
    {
     "data": {
      "text/html": [
       "<div>\n",
       "<style scoped>\n",
       "    .dataframe tbody tr th:only-of-type {\n",
       "        vertical-align: middle;\n",
       "    }\n",
       "\n",
       "    .dataframe tbody tr th {\n",
       "        vertical-align: top;\n",
       "    }\n",
       "\n",
       "    .dataframe thead th {\n",
       "        text-align: right;\n",
       "    }\n",
       "</style>\n",
       "<table border=\"1\" class=\"dataframe\">\n",
       "  <thead>\n",
       "    <tr style=\"text-align: right;\">\n",
       "      <th></th>\n",
       "      <th>target</th>\n",
       "      <th>text</th>\n",
       "    </tr>\n",
       "  </thead>\n",
       "  <tbody>\n",
       "    <tr>\n",
       "      <th>0</th>\n",
       "      <td>0</td>\n",
       "      <td>Go until jurong point, crazy.. Available only ...</td>\n",
       "    </tr>\n",
       "    <tr>\n",
       "      <th>1</th>\n",
       "      <td>0</td>\n",
       "      <td>Ok lar... Joking wif u oni...</td>\n",
       "    </tr>\n",
       "    <tr>\n",
       "      <th>2</th>\n",
       "      <td>1</td>\n",
       "      <td>Free entry in 2 a wkly comp to win FA Cup fina...</td>\n",
       "    </tr>\n",
       "    <tr>\n",
       "      <th>3</th>\n",
       "      <td>0</td>\n",
       "      <td>U dun say so early hor... U c already then say...</td>\n",
       "    </tr>\n",
       "    <tr>\n",
       "      <th>4</th>\n",
       "      <td>0</td>\n",
       "      <td>Nah I don't think he goes to usf, he lives aro...</td>\n",
       "    </tr>\n",
       "  </tbody>\n",
       "</table>\n",
       "</div>"
      ],
      "text/plain": [
       "   target                                               text\n",
       "0       0  Go until jurong point, crazy.. Available only ...\n",
       "1       0                      Ok lar... Joking wif u oni...\n",
       "2       1  Free entry in 2 a wkly comp to win FA Cup fina...\n",
       "3       0  U dun say so early hor... U c already then say...\n",
       "4       0  Nah I don't think he goes to usf, he lives aro..."
      ]
     },
     "execution_count": 16,
     "metadata": {},
     "output_type": "execute_result"
    }
   ],
   "source": [
    "df.head()"
   ]
  },
  {
   "cell_type": "code",
   "execution_count": 17,
   "id": "5a600d96",
   "metadata": {},
   "outputs": [
    {
     "data": {
      "text/plain": [
       "target\n",
       "0    4516\n",
       "1     653\n",
       "Name: count, dtype: int64"
      ]
     },
     "execution_count": 17,
     "metadata": {},
     "output_type": "execute_result"
    }
   ],
   "source": [
    "df['target'].value_counts()"
   ]
  },
  {
   "cell_type": "code",
   "execution_count": 18,
   "id": "32c844fc",
   "metadata": {},
   "outputs": [],
   "source": [
    "import nltk\n",
    "import string\n",
    "from nltk.corpus import stopwords\n",
    "from nltk.stem import PorterStemmer\n",
    "\n",
    "# Create an instance of PorterStemmer\n",
    "ps = PorterStemmer()\n"
   ]
  },
  {
   "cell_type": "markdown",
   "id": "9ae1fffe",
   "metadata": {},
   "source": [
    "3. Data Preprocessing"
   ]
  },
  {
   "cell_type": "code",
   "execution_count": 19,
   "id": "143f61f5",
   "metadata": {},
   "outputs": [],
   "source": [
    "def transform_text(text):\n",
    "    text = text.lower()\n",
    "    text = nltk.word_tokenize(text)\n",
    "    \n",
    "    y = []\n",
    "    for i in text:\n",
    "        if i.isalnum():\n",
    "            y.append(i)\n",
    "    \n",
    "    text = y[:]\n",
    "    y.clear()\n",
    "    \n",
    "    for i in text:\n",
    "        if i not in stopwords.words('english') and i not in string.punctuation:\n",
    "            y.append(i)\n",
    "            \n",
    "    text = y[:]\n",
    "    y.clear()\n",
    "    \n",
    "    for i in text:\n",
    "        y.append(ps.stem(i))\n",
    "    \n",
    "            \n",
    "    return \" \".join(y)"
   ]
  },
  {
   "cell_type": "code",
   "execution_count": 20,
   "id": "51a3b51b",
   "metadata": {},
   "outputs": [
    {
     "data": {
      "text/plain": [
       "'gon na home soon want talk stuff anymor tonight k cri enough today'"
      ]
     },
     "execution_count": 20,
     "metadata": {},
     "output_type": "execute_result"
    }
   ],
   "source": [
    "transform_text(\"I'm gonna be home soon and i don't want to talk about this stuff anymore tonight, k? I've cried enough today.\")"
   ]
  },
  {
   "cell_type": "code",
   "execution_count": 21,
   "id": "99614db8",
   "metadata": {},
   "outputs": [
    {
     "data": {
      "text/plain": [
       "\"I'm gonna be home soon and i don't want to talk about this stuff anymore tonight, k? I've cried enough today.\""
      ]
     },
     "execution_count": 21,
     "metadata": {},
     "output_type": "execute_result"
    }
   ],
   "source": [
    "df['text'][10]"
   ]
  },
  {
   "cell_type": "code",
   "execution_count": 22,
   "id": "8b3e8e7c",
   "metadata": {},
   "outputs": [
    {
     "data": {
      "text/plain": [
       "'love'"
      ]
     },
     "execution_count": 22,
     "metadata": {},
     "output_type": "execute_result"
    }
   ],
   "source": [
    "from nltk.stem.porter import PorterStemmer\n",
    "ps = PorterStemmer()\n",
    "ps.stem('loving')"
   ]
  },
  {
   "cell_type": "code",
   "execution_count": 23,
   "id": "49db79af",
   "metadata": {},
   "outputs": [],
   "source": [
    "df['transformed_text'] = df['text'].apply(transform_text)"
   ]
  },
  {
   "cell_type": "code",
   "execution_count": 24,
   "id": "329f4736",
   "metadata": {},
   "outputs": [
    {
     "data": {
      "text/html": [
       "<div>\n",
       "<style scoped>\n",
       "    .dataframe tbody tr th:only-of-type {\n",
       "        vertical-align: middle;\n",
       "    }\n",
       "\n",
       "    .dataframe tbody tr th {\n",
       "        vertical-align: top;\n",
       "    }\n",
       "\n",
       "    .dataframe thead th {\n",
       "        text-align: right;\n",
       "    }\n",
       "</style>\n",
       "<table border=\"1\" class=\"dataframe\">\n",
       "  <thead>\n",
       "    <tr style=\"text-align: right;\">\n",
       "      <th></th>\n",
       "      <th>target</th>\n",
       "      <th>text</th>\n",
       "      <th>transformed_text</th>\n",
       "    </tr>\n",
       "  </thead>\n",
       "  <tbody>\n",
       "    <tr>\n",
       "      <th>0</th>\n",
       "      <td>0</td>\n",
       "      <td>Go until jurong point, crazy.. Available only ...</td>\n",
       "      <td>go jurong point crazi avail bugi n great world...</td>\n",
       "    </tr>\n",
       "    <tr>\n",
       "      <th>1</th>\n",
       "      <td>0</td>\n",
       "      <td>Ok lar... Joking wif u oni...</td>\n",
       "      <td>ok lar joke wif u oni</td>\n",
       "    </tr>\n",
       "    <tr>\n",
       "      <th>2</th>\n",
       "      <td>1</td>\n",
       "      <td>Free entry in 2 a wkly comp to win FA Cup fina...</td>\n",
       "      <td>free entri 2 wkli comp win fa cup final tkt 21...</td>\n",
       "    </tr>\n",
       "    <tr>\n",
       "      <th>3</th>\n",
       "      <td>0</td>\n",
       "      <td>U dun say so early hor... U c already then say...</td>\n",
       "      <td>u dun say earli hor u c alreadi say</td>\n",
       "    </tr>\n",
       "    <tr>\n",
       "      <th>4</th>\n",
       "      <td>0</td>\n",
       "      <td>Nah I don't think he goes to usf, he lives aro...</td>\n",
       "      <td>nah think goe usf live around though</td>\n",
       "    </tr>\n",
       "  </tbody>\n",
       "</table>\n",
       "</div>"
      ],
      "text/plain": [
       "   target                                               text  \\\n",
       "0       0  Go until jurong point, crazy.. Available only ...   \n",
       "1       0                      Ok lar... Joking wif u oni...   \n",
       "2       1  Free entry in 2 a wkly comp to win FA Cup fina...   \n",
       "3       0  U dun say so early hor... U c already then say...   \n",
       "4       0  Nah I don't think he goes to usf, he lives aro...   \n",
       "\n",
       "                                    transformed_text  \n",
       "0  go jurong point crazi avail bugi n great world...  \n",
       "1                              ok lar joke wif u oni  \n",
       "2  free entri 2 wkli comp win fa cup final tkt 21...  \n",
       "3                u dun say earli hor u c alreadi say  \n",
       "4               nah think goe usf live around though  "
      ]
     },
     "execution_count": 24,
     "metadata": {},
     "output_type": "execute_result"
    }
   ],
   "source": [
    "df.head()"
   ]
  },
  {
   "cell_type": "code",
   "execution_count": 25,
   "id": "a3c35425",
   "metadata": {},
   "outputs": [],
   "source": [
    "spam_corpus = []\n",
    "for msg in df[df['target'] == 1]['transformed_text'].tolist():\n",
    "    for word in msg.split():\n",
    "        spam_corpus.append(word)"
   ]
  },
  {
   "cell_type": "code",
   "execution_count": 26,
   "id": "3272247e",
   "metadata": {},
   "outputs": [
    {
     "data": {
      "text/plain": [
       "9982"
      ]
     },
     "execution_count": 26,
     "metadata": {},
     "output_type": "execute_result"
    }
   ],
   "source": [
    "len(spam_corpus)"
   ]
  },
  {
   "cell_type": "code",
   "execution_count": 27,
   "id": "bd0cf15a",
   "metadata": {},
   "outputs": [],
   "source": [
    "ham_corpus = []\n",
    "for msg in df[df['target'] == 0]['transformed_text'].tolist():\n",
    "    for word in msg.split():\n",
    "        ham_corpus.append(word)"
   ]
  },
  {
   "cell_type": "code",
   "execution_count": 28,
   "id": "63cd8362",
   "metadata": {},
   "outputs": [
    {
     "data": {
      "text/plain": [
       "35939"
      ]
     },
     "execution_count": 28,
     "metadata": {},
     "output_type": "execute_result"
    }
   ],
   "source": [
    "len(ham_corpus)"
   ]
  },
  {
   "cell_type": "code",
   "execution_count": 29,
   "id": "da32349b",
   "metadata": {},
   "outputs": [
    {
     "data": {
      "text/html": [
       "<div>\n",
       "<style scoped>\n",
       "    .dataframe tbody tr th:only-of-type {\n",
       "        vertical-align: middle;\n",
       "    }\n",
       "\n",
       "    .dataframe tbody tr th {\n",
       "        vertical-align: top;\n",
       "    }\n",
       "\n",
       "    .dataframe thead th {\n",
       "        text-align: right;\n",
       "    }\n",
       "</style>\n",
       "<table border=\"1\" class=\"dataframe\">\n",
       "  <thead>\n",
       "    <tr style=\"text-align: right;\">\n",
       "      <th></th>\n",
       "      <th>target</th>\n",
       "      <th>text</th>\n",
       "      <th>transformed_text</th>\n",
       "    </tr>\n",
       "  </thead>\n",
       "  <tbody>\n",
       "    <tr>\n",
       "      <th>0</th>\n",
       "      <td>0</td>\n",
       "      <td>Go until jurong point, crazy.. Available only ...</td>\n",
       "      <td>go jurong point crazi avail bugi n great world...</td>\n",
       "    </tr>\n",
       "    <tr>\n",
       "      <th>1</th>\n",
       "      <td>0</td>\n",
       "      <td>Ok lar... Joking wif u oni...</td>\n",
       "      <td>ok lar joke wif u oni</td>\n",
       "    </tr>\n",
       "    <tr>\n",
       "      <th>2</th>\n",
       "      <td>1</td>\n",
       "      <td>Free entry in 2 a wkly comp to win FA Cup fina...</td>\n",
       "      <td>free entri 2 wkli comp win fa cup final tkt 21...</td>\n",
       "    </tr>\n",
       "    <tr>\n",
       "      <th>3</th>\n",
       "      <td>0</td>\n",
       "      <td>U dun say so early hor... U c already then say...</td>\n",
       "      <td>u dun say earli hor u c alreadi say</td>\n",
       "    </tr>\n",
       "    <tr>\n",
       "      <th>4</th>\n",
       "      <td>0</td>\n",
       "      <td>Nah I don't think he goes to usf, he lives aro...</td>\n",
       "      <td>nah think goe usf live around though</td>\n",
       "    </tr>\n",
       "  </tbody>\n",
       "</table>\n",
       "</div>"
      ],
      "text/plain": [
       "   target                                               text  \\\n",
       "0       0  Go until jurong point, crazy.. Available only ...   \n",
       "1       0                      Ok lar... Joking wif u oni...   \n",
       "2       1  Free entry in 2 a wkly comp to win FA Cup fina...   \n",
       "3       0  U dun say so early hor... U c already then say...   \n",
       "4       0  Nah I don't think he goes to usf, he lives aro...   \n",
       "\n",
       "                                    transformed_text  \n",
       "0  go jurong point crazi avail bugi n great world...  \n",
       "1                              ok lar joke wif u oni  \n",
       "2  free entri 2 wkli comp win fa cup final tkt 21...  \n",
       "3                u dun say earli hor u c alreadi say  \n",
       "4               nah think goe usf live around though  "
      ]
     },
     "execution_count": 29,
     "metadata": {},
     "output_type": "execute_result"
    }
   ],
   "source": [
    "# Text Vectorization\n",
    "# using Bag of Words\n",
    "df.head()"
   ]
  },
  {
   "cell_type": "markdown",
   "id": "31b4d16d",
   "metadata": {},
   "source": [
    "4. Model Building"
   ]
  },
  {
   "cell_type": "code",
   "execution_count": 30,
   "id": "c5aa2041",
   "metadata": {},
   "outputs": [],
   "source": [
    "from sklearn.feature_extraction.text import CountVectorizer,TfidfVectorizer\n",
    "cv = CountVectorizer()\n",
    "tfidf = TfidfVectorizer(max_features=2500)"
   ]
  },
  {
   "cell_type": "code",
   "execution_count": 31,
   "id": "95a8f2aa",
   "metadata": {},
   "outputs": [],
   "source": [
    "X = tfidf.fit_transform(df['transformed_text']).toarray()"
   ]
  },
  {
   "cell_type": "code",
   "execution_count": 32,
   "id": "59a1048e",
   "metadata": {},
   "outputs": [
    {
     "data": {
      "text/plain": [
       "(5169, 2500)"
      ]
     },
     "execution_count": 32,
     "metadata": {},
     "output_type": "execute_result"
    }
   ],
   "source": [
    "X.shape"
   ]
  },
  {
   "cell_type": "code",
   "execution_count": 33,
   "id": "6fd457d8",
   "metadata": {},
   "outputs": [],
   "source": [
    "y = df['target'].values"
   ]
  },
  {
   "cell_type": "code",
   "execution_count": 34,
   "id": "c7b6a5d4",
   "metadata": {},
   "outputs": [],
   "source": [
    "from sklearn.model_selection import train_test_split"
   ]
  },
  {
   "cell_type": "code",
   "execution_count": 35,
   "id": "6001d5b1",
   "metadata": {},
   "outputs": [],
   "source": [
    "X_train,X_test,y_train,y_test = train_test_split(X,y,test_size=0.2,random_state=2)"
   ]
  },
  {
   "cell_type": "code",
   "execution_count": 36,
   "id": "7a04e64b",
   "metadata": {},
   "outputs": [],
   "source": [
    "from sklearn.naive_bayes import GaussianNB,MultinomialNB,BernoulliNB\n",
    "from sklearn.metrics import accuracy_score,confusion_matrix,precision_score"
   ]
  },
  {
   "cell_type": "code",
   "execution_count": 37,
   "id": "de9468e6",
   "metadata": {},
   "outputs": [],
   "source": [
    "gnb = GaussianNB()\n",
    "mnb = MultinomialNB()\n",
    "bnb = BernoulliNB()"
   ]
  },
  {
   "cell_type": "code",
   "execution_count": 38,
   "id": "71702b1b",
   "metadata": {},
   "outputs": [
    {
     "name": "stdout",
     "output_type": "stream",
     "text": [
      "0.8558994197292069\n",
      "[[783 125]\n",
      " [ 24 102]]\n",
      "0.44933920704845814\n"
     ]
    }
   ],
   "source": [
    "gnb.fit(X_train,y_train)\n",
    "y_pred1 = gnb.predict(X_test)\n",
    "print(accuracy_score(y_test,y_pred1))\n",
    "print(confusion_matrix(y_test,y_pred1))\n",
    "print(precision_score(y_test,y_pred1))"
   ]
  },
  {
   "cell_type": "code",
   "execution_count": 39,
   "id": "7d96627d",
   "metadata": {},
   "outputs": [
    {
     "name": "stdout",
     "output_type": "stream",
     "text": [
      "0.971953578336557\n",
      "[[908   0]\n",
      " [ 29  97]]\n",
      "1.0\n"
     ]
    }
   ],
   "source": [
    "mnb.fit(X_train,y_train)\n",
    "y_pred2 = mnb.predict(X_test)\n",
    "print(accuracy_score(y_test,y_pred2))\n",
    "print(confusion_matrix(y_test,y_pred2))\n",
    "print(precision_score(y_test,y_pred2))"
   ]
  },
  {
   "cell_type": "code",
   "execution_count": 40,
   "id": "5474f784",
   "metadata": {},
   "outputs": [
    {
     "name": "stdout",
     "output_type": "stream",
     "text": [
      "0.9796905222437138\n",
      "[[906   2]\n",
      " [ 19 107]]\n",
      "0.981651376146789\n"
     ]
    }
   ],
   "source": [
    "bnb.fit(X_train,y_train)\n",
    "y_pred3 = bnb.predict(X_test)\n",
    "print(accuracy_score(y_test,y_pred3))\n",
    "print(confusion_matrix(y_test,y_pred3))\n",
    "print(precision_score(y_test,y_pred3))"
   ]
  },
  {
   "cell_type": "code",
   "execution_count": 41,
   "id": "61318989",
   "metadata": {},
   "outputs": [],
   "source": [
    "# tfidf --> MNB"
   ]
  },
  {
   "cell_type": "code",
   "execution_count": 42,
   "id": "4ee52222",
   "metadata": {},
   "outputs": [],
   "source": [
    "from sklearn.linear_model import LogisticRegression\n",
    "from sklearn.svm import SVC\n",
    "from sklearn.naive_bayes import MultinomialNB\n",
    "from sklearn.tree import DecisionTreeClassifier\n",
    "from sklearn.neighbors import KNeighborsClassifier\n",
    "from sklearn.ensemble import RandomForestClassifier\n",
    "from sklearn.ensemble import AdaBoostClassifier\n",
    "from sklearn.ensemble import BaggingClassifier\n",
    "from sklearn.ensemble import ExtraTreesClassifier\n",
    "from sklearn.ensemble import GradientBoostingClassifier\n",
    "from xgboost import XGBClassifier"
   ]
  },
  {
   "cell_type": "code",
   "execution_count": 43,
   "id": "f62e3827",
   "metadata": {},
   "outputs": [],
   "source": [
    "svc = SVC(kernel='sigmoid', gamma=1.0)\n",
    "knc = KNeighborsClassifier()\n",
    "mnb = MultinomialNB()\n",
    "dtc = DecisionTreeClassifier(max_depth=5)\n",
    "lrc = LogisticRegression(solver='liblinear', penalty='l1')\n",
    "rfc = RandomForestClassifier(n_estimators=50, random_state=2)\n",
    "abc = AdaBoostClassifier(n_estimators=50, random_state=2)\n",
    "bc = BaggingClassifier(n_estimators=50, random_state=2)\n",
    "etc = ExtraTreesClassifier(n_estimators=50, random_state=2)\n",
    "gbdt = GradientBoostingClassifier(n_estimators=50,random_state=2)\n",
    "xgb = XGBClassifier(n_estimators=50,random_state=2)"
   ]
  },
  {
   "cell_type": "code",
   "execution_count": 44,
   "id": "21209860",
   "metadata": {},
   "outputs": [],
   "source": [
    "clfs = {\n",
    "    'SVC' : svc,\n",
    "    'KN' : knc, \n",
    "    'NB': mnb, \n",
    "    'DT': dtc, \n",
    "    'LR': lrc, \n",
    "    'RF': rfc, \n",
    "    'AdaBoost': abc, \n",
    "    'BgC': bc, \n",
    "    'ETC': etc,\n",
    "    'GBDT':gbdt,\n",
    "    'xgb':xgb\n",
    "}"
   ]
  },
  {
   "cell_type": "code",
   "execution_count": 45,
   "id": "6f6cbe77",
   "metadata": {},
   "outputs": [],
   "source": [
    "def train_classifier(clf,X_train,y_train,X_test,y_test):\n",
    "    clf.fit(X_train,y_train)\n",
    "    y_pred = clf.predict(X_test)\n",
    "    accuracy = accuracy_score(y_test,y_pred)\n",
    "    precision = precision_score(y_test,y_pred)\n",
    "    \n",
    "    return accuracy,precision"
   ]
  },
  {
   "cell_type": "code",
   "execution_count": 46,
   "id": "0342b116",
   "metadata": {},
   "outputs": [
    {
     "data": {
      "text/plain": [
       "(0.9738878143133463, 0.9805825242718447)"
      ]
     },
     "execution_count": 46,
     "metadata": {},
     "output_type": "execute_result"
    }
   ],
   "source": [
    "train_classifier(svc,X_train,y_train,X_test,y_test)"
   ]
  },
  {
   "cell_type": "code",
   "execution_count": 47,
   "id": "e0c1af94",
   "metadata": {},
   "outputs": [
    {
     "name": "stdout",
     "output_type": "stream",
     "text": [
      "For  SVC\n",
      "Accuracy -  0.9738878143133463\n",
      "Precision -  0.9805825242718447\n",
      "For  KN\n",
      "Accuracy -  0.9187620889748549\n",
      "Precision -  1.0\n",
      "For  NB\n",
      "Accuracy -  0.971953578336557\n",
      "Precision -  1.0\n",
      "For  DT\n",
      "Accuracy -  0.9410058027079303\n",
      "Precision -  0.891566265060241\n",
      "For  LR\n",
      "Accuracy -  0.9497098646034816\n",
      "Precision -  0.9302325581395349\n",
      "For  RF\n",
      "Accuracy -  0.9671179883945842\n",
      "Precision -  0.9693877551020408\n",
      "For  AdaBoost\n",
      "Accuracy -  0.9661508704061895\n",
      "Precision -  0.9333333333333333\n",
      "For  BgC\n",
      "Accuracy -  0.9613152804642167\n",
      "Precision -  0.8771929824561403\n",
      "For  ETC\n",
      "Accuracy -  0.9758220502901354\n",
      "Precision -  0.9719626168224299\n",
      "For  GBDT\n",
      "Accuracy -  0.9458413926499033\n",
      "Precision -  0.9375\n",
      "For  xgb\n",
      "Accuracy -  0.9661508704061895\n",
      "Precision -  0.9333333333333333\n"
     ]
    }
   ],
   "source": [
    "accuracy_scores = []\n",
    "precision_scores = []\n",
    "\n",
    "for name,clf in clfs.items():\n",
    "    \n",
    "    current_accuracy,current_precision = train_classifier(clf, X_train,y_train,X_test,y_test)\n",
    "    \n",
    "    print(\"For \",name)\n",
    "    print(\"Accuracy - \",current_accuracy)\n",
    "    print(\"Precision - \",current_precision)\n",
    "    \n",
    "    accuracy_scores.append(current_accuracy)\n",
    "    precision_scores.append(current_precision)"
   ]
  },
  {
   "cell_type": "code",
   "execution_count": 48,
   "id": "6122aa41",
   "metadata": {},
   "outputs": [],
   "source": [
    "performance_df = pd.DataFrame({'Algorithm':clfs.keys(),'Accuracy':accuracy_scores,'Precision':precision_scores}).sort_values('Precision',ascending=False)\n"
   ]
  },
  {
   "cell_type": "code",
   "execution_count": 49,
   "id": "09b29e3b",
   "metadata": {},
   "outputs": [
    {
     "data": {
      "text/html": [
       "<div>\n",
       "<style scoped>\n",
       "    .dataframe tbody tr th:only-of-type {\n",
       "        vertical-align: middle;\n",
       "    }\n",
       "\n",
       "    .dataframe tbody tr th {\n",
       "        vertical-align: top;\n",
       "    }\n",
       "\n",
       "    .dataframe thead th {\n",
       "        text-align: right;\n",
       "    }\n",
       "</style>\n",
       "<table border=\"1\" class=\"dataframe\">\n",
       "  <thead>\n",
       "    <tr style=\"text-align: right;\">\n",
       "      <th></th>\n",
       "      <th>Algorithm</th>\n",
       "      <th>Accuracy</th>\n",
       "      <th>Precision</th>\n",
       "    </tr>\n",
       "  </thead>\n",
       "  <tbody>\n",
       "    <tr>\n",
       "      <th>1</th>\n",
       "      <td>KN</td>\n",
       "      <td>0.918762</td>\n",
       "      <td>1.000000</td>\n",
       "    </tr>\n",
       "    <tr>\n",
       "      <th>2</th>\n",
       "      <td>NB</td>\n",
       "      <td>0.971954</td>\n",
       "      <td>1.000000</td>\n",
       "    </tr>\n",
       "    <tr>\n",
       "      <th>0</th>\n",
       "      <td>SVC</td>\n",
       "      <td>0.973888</td>\n",
       "      <td>0.980583</td>\n",
       "    </tr>\n",
       "    <tr>\n",
       "      <th>8</th>\n",
       "      <td>ETC</td>\n",
       "      <td>0.975822</td>\n",
       "      <td>0.971963</td>\n",
       "    </tr>\n",
       "    <tr>\n",
       "      <th>5</th>\n",
       "      <td>RF</td>\n",
       "      <td>0.967118</td>\n",
       "      <td>0.969388</td>\n",
       "    </tr>\n",
       "    <tr>\n",
       "      <th>9</th>\n",
       "      <td>GBDT</td>\n",
       "      <td>0.945841</td>\n",
       "      <td>0.937500</td>\n",
       "    </tr>\n",
       "    <tr>\n",
       "      <th>6</th>\n",
       "      <td>AdaBoost</td>\n",
       "      <td>0.966151</td>\n",
       "      <td>0.933333</td>\n",
       "    </tr>\n",
       "    <tr>\n",
       "      <th>10</th>\n",
       "      <td>xgb</td>\n",
       "      <td>0.966151</td>\n",
       "      <td>0.933333</td>\n",
       "    </tr>\n",
       "    <tr>\n",
       "      <th>4</th>\n",
       "      <td>LR</td>\n",
       "      <td>0.949710</td>\n",
       "      <td>0.930233</td>\n",
       "    </tr>\n",
       "    <tr>\n",
       "      <th>3</th>\n",
       "      <td>DT</td>\n",
       "      <td>0.941006</td>\n",
       "      <td>0.891566</td>\n",
       "    </tr>\n",
       "    <tr>\n",
       "      <th>7</th>\n",
       "      <td>BgC</td>\n",
       "      <td>0.961315</td>\n",
       "      <td>0.877193</td>\n",
       "    </tr>\n",
       "  </tbody>\n",
       "</table>\n",
       "</div>"
      ],
      "text/plain": [
       "   Algorithm  Accuracy  Precision\n",
       "1         KN  0.918762   1.000000\n",
       "2         NB  0.971954   1.000000\n",
       "0        SVC  0.973888   0.980583\n",
       "8        ETC  0.975822   0.971963\n",
       "5         RF  0.967118   0.969388\n",
       "9       GBDT  0.945841   0.937500\n",
       "6   AdaBoost  0.966151   0.933333\n",
       "10       xgb  0.966151   0.933333\n",
       "4         LR  0.949710   0.930233\n",
       "3         DT  0.941006   0.891566\n",
       "7        BgC  0.961315   0.877193"
      ]
     },
     "execution_count": 49,
     "metadata": {},
     "output_type": "execute_result"
    }
   ],
   "source": [
    "performance_df"
   ]
  },
  {
   "cell_type": "code",
   "execution_count": 50,
   "id": "2d94d932",
   "metadata": {},
   "outputs": [],
   "source": [
    "performance_df1 = pd.melt(performance_df, id_vars = \"Algorithm\")"
   ]
  },
  {
   "cell_type": "code",
   "execution_count": 51,
   "id": "4a7b8bd0",
   "metadata": {},
   "outputs": [
    {
     "data": {
      "text/html": [
       "<div>\n",
       "<style scoped>\n",
       "    .dataframe tbody tr th:only-of-type {\n",
       "        vertical-align: middle;\n",
       "    }\n",
       "\n",
       "    .dataframe tbody tr th {\n",
       "        vertical-align: top;\n",
       "    }\n",
       "\n",
       "    .dataframe thead th {\n",
       "        text-align: right;\n",
       "    }\n",
       "</style>\n",
       "<table border=\"1\" class=\"dataframe\">\n",
       "  <thead>\n",
       "    <tr style=\"text-align: right;\">\n",
       "      <th></th>\n",
       "      <th>Algorithm</th>\n",
       "      <th>variable</th>\n",
       "      <th>value</th>\n",
       "    </tr>\n",
       "  </thead>\n",
       "  <tbody>\n",
       "    <tr>\n",
       "      <th>0</th>\n",
       "      <td>KN</td>\n",
       "      <td>Accuracy</td>\n",
       "      <td>0.918762</td>\n",
       "    </tr>\n",
       "    <tr>\n",
       "      <th>1</th>\n",
       "      <td>NB</td>\n",
       "      <td>Accuracy</td>\n",
       "      <td>0.971954</td>\n",
       "    </tr>\n",
       "    <tr>\n",
       "      <th>2</th>\n",
       "      <td>SVC</td>\n",
       "      <td>Accuracy</td>\n",
       "      <td>0.973888</td>\n",
       "    </tr>\n",
       "    <tr>\n",
       "      <th>3</th>\n",
       "      <td>ETC</td>\n",
       "      <td>Accuracy</td>\n",
       "      <td>0.975822</td>\n",
       "    </tr>\n",
       "    <tr>\n",
       "      <th>4</th>\n",
       "      <td>RF</td>\n",
       "      <td>Accuracy</td>\n",
       "      <td>0.967118</td>\n",
       "    </tr>\n",
       "    <tr>\n",
       "      <th>5</th>\n",
       "      <td>GBDT</td>\n",
       "      <td>Accuracy</td>\n",
       "      <td>0.945841</td>\n",
       "    </tr>\n",
       "    <tr>\n",
       "      <th>6</th>\n",
       "      <td>AdaBoost</td>\n",
       "      <td>Accuracy</td>\n",
       "      <td>0.966151</td>\n",
       "    </tr>\n",
       "    <tr>\n",
       "      <th>7</th>\n",
       "      <td>xgb</td>\n",
       "      <td>Accuracy</td>\n",
       "      <td>0.966151</td>\n",
       "    </tr>\n",
       "    <tr>\n",
       "      <th>8</th>\n",
       "      <td>LR</td>\n",
       "      <td>Accuracy</td>\n",
       "      <td>0.949710</td>\n",
       "    </tr>\n",
       "    <tr>\n",
       "      <th>9</th>\n",
       "      <td>DT</td>\n",
       "      <td>Accuracy</td>\n",
       "      <td>0.941006</td>\n",
       "    </tr>\n",
       "    <tr>\n",
       "      <th>10</th>\n",
       "      <td>BgC</td>\n",
       "      <td>Accuracy</td>\n",
       "      <td>0.961315</td>\n",
       "    </tr>\n",
       "    <tr>\n",
       "      <th>11</th>\n",
       "      <td>KN</td>\n",
       "      <td>Precision</td>\n",
       "      <td>1.000000</td>\n",
       "    </tr>\n",
       "    <tr>\n",
       "      <th>12</th>\n",
       "      <td>NB</td>\n",
       "      <td>Precision</td>\n",
       "      <td>1.000000</td>\n",
       "    </tr>\n",
       "    <tr>\n",
       "      <th>13</th>\n",
       "      <td>SVC</td>\n",
       "      <td>Precision</td>\n",
       "      <td>0.980583</td>\n",
       "    </tr>\n",
       "    <tr>\n",
       "      <th>14</th>\n",
       "      <td>ETC</td>\n",
       "      <td>Precision</td>\n",
       "      <td>0.971963</td>\n",
       "    </tr>\n",
       "    <tr>\n",
       "      <th>15</th>\n",
       "      <td>RF</td>\n",
       "      <td>Precision</td>\n",
       "      <td>0.969388</td>\n",
       "    </tr>\n",
       "    <tr>\n",
       "      <th>16</th>\n",
       "      <td>GBDT</td>\n",
       "      <td>Precision</td>\n",
       "      <td>0.937500</td>\n",
       "    </tr>\n",
       "    <tr>\n",
       "      <th>17</th>\n",
       "      <td>AdaBoost</td>\n",
       "      <td>Precision</td>\n",
       "      <td>0.933333</td>\n",
       "    </tr>\n",
       "    <tr>\n",
       "      <th>18</th>\n",
       "      <td>xgb</td>\n",
       "      <td>Precision</td>\n",
       "      <td>0.933333</td>\n",
       "    </tr>\n",
       "    <tr>\n",
       "      <th>19</th>\n",
       "      <td>LR</td>\n",
       "      <td>Precision</td>\n",
       "      <td>0.930233</td>\n",
       "    </tr>\n",
       "    <tr>\n",
       "      <th>20</th>\n",
       "      <td>DT</td>\n",
       "      <td>Precision</td>\n",
       "      <td>0.891566</td>\n",
       "    </tr>\n",
       "    <tr>\n",
       "      <th>21</th>\n",
       "      <td>BgC</td>\n",
       "      <td>Precision</td>\n",
       "      <td>0.877193</td>\n",
       "    </tr>\n",
       "  </tbody>\n",
       "</table>\n",
       "</div>"
      ],
      "text/plain": [
       "   Algorithm   variable     value\n",
       "0         KN   Accuracy  0.918762\n",
       "1         NB   Accuracy  0.971954\n",
       "2        SVC   Accuracy  0.973888\n",
       "3        ETC   Accuracy  0.975822\n",
       "4         RF   Accuracy  0.967118\n",
       "5       GBDT   Accuracy  0.945841\n",
       "6   AdaBoost   Accuracy  0.966151\n",
       "7        xgb   Accuracy  0.966151\n",
       "8         LR   Accuracy  0.949710\n",
       "9         DT   Accuracy  0.941006\n",
       "10       BgC   Accuracy  0.961315\n",
       "11        KN  Precision  1.000000\n",
       "12        NB  Precision  1.000000\n",
       "13       SVC  Precision  0.980583\n",
       "14       ETC  Precision  0.971963\n",
       "15        RF  Precision  0.969388\n",
       "16      GBDT  Precision  0.937500\n",
       "17  AdaBoost  Precision  0.933333\n",
       "18       xgb  Precision  0.933333\n",
       "19        LR  Precision  0.930233\n",
       "20        DT  Precision  0.891566\n",
       "21       BgC  Precision  0.877193"
      ]
     },
     "execution_count": 51,
     "metadata": {},
     "output_type": "execute_result"
    }
   ],
   "source": [
    "performance_df1"
   ]
  },
  {
   "cell_type": "code",
   "execution_count": 52,
   "id": "13b689bb",
   "metadata": {},
   "outputs": [],
   "source": [
    "# model improve\n",
    "# 1. Change the max_features parameter of TfIdf"
   ]
  },
  {
   "cell_type": "code",
   "execution_count": 53,
   "id": "86193312",
   "metadata": {},
   "outputs": [],
   "source": [
    "temp_df = pd.DataFrame({'Algorithm':clfs.keys(),'Accuracy_max_ft_3000':accuracy_scores,'Precision_max_ft_3000':precision_scores}).sort_values('Precision_max_ft_3000',ascending=False)\n"
   ]
  },
  {
   "cell_type": "code",
   "execution_count": 54,
   "id": "8f24d1d1",
   "metadata": {},
   "outputs": [],
   "source": [
    "temp_df = pd.DataFrame({'Algorithm':clfs.keys(),'Accuracy_scaling':accuracy_scores,'Precision_scaling':precision_scores}).sort_values('Precision_scaling',ascending=False)\n"
   ]
  },
  {
   "cell_type": "code",
   "execution_count": 55,
   "id": "b059d2c6",
   "metadata": {},
   "outputs": [],
   "source": [
    "new_df = performance_df.merge(temp_df,on='Algorithm')\n"
   ]
  },
  {
   "cell_type": "code",
   "execution_count": 56,
   "id": "17f3cbe1",
   "metadata": {},
   "outputs": [],
   "source": [
    "new_df_scaled = new_df.merge(temp_df,on='Algorithm')\n"
   ]
  },
  {
   "cell_type": "code",
   "execution_count": 57,
   "id": "bd67e94b",
   "metadata": {},
   "outputs": [],
   "source": [
    "temp_df = pd.DataFrame({'Algorithm':clfs.keys(),'Accuracy_num_chars':accuracy_scores,'Precision_num_chars':precision_scores}).sort_values('Precision_num_chars',ascending=False)\n"
   ]
  },
  {
   "cell_type": "code",
   "execution_count": 58,
   "id": "f68a7e55",
   "metadata": {},
   "outputs": [
    {
     "data": {
      "text/html": [
       "<div>\n",
       "<style scoped>\n",
       "    .dataframe tbody tr th:only-of-type {\n",
       "        vertical-align: middle;\n",
       "    }\n",
       "\n",
       "    .dataframe tbody tr th {\n",
       "        vertical-align: top;\n",
       "    }\n",
       "\n",
       "    .dataframe thead th {\n",
       "        text-align: right;\n",
       "    }\n",
       "</style>\n",
       "<table border=\"1\" class=\"dataframe\">\n",
       "  <thead>\n",
       "    <tr style=\"text-align: right;\">\n",
       "      <th></th>\n",
       "      <th>Algorithm</th>\n",
       "      <th>Accuracy</th>\n",
       "      <th>Precision</th>\n",
       "      <th>Accuracy_scaling_x</th>\n",
       "      <th>Precision_scaling_x</th>\n",
       "      <th>Accuracy_scaling_y</th>\n",
       "      <th>Precision_scaling_y</th>\n",
       "      <th>Accuracy_num_chars</th>\n",
       "      <th>Precision_num_chars</th>\n",
       "    </tr>\n",
       "  </thead>\n",
       "  <tbody>\n",
       "    <tr>\n",
       "      <th>0</th>\n",
       "      <td>KN</td>\n",
       "      <td>0.918762</td>\n",
       "      <td>1.000000</td>\n",
       "      <td>0.918762</td>\n",
       "      <td>1.000000</td>\n",
       "      <td>0.918762</td>\n",
       "      <td>1.000000</td>\n",
       "      <td>0.918762</td>\n",
       "      <td>1.000000</td>\n",
       "    </tr>\n",
       "    <tr>\n",
       "      <th>1</th>\n",
       "      <td>NB</td>\n",
       "      <td>0.971954</td>\n",
       "      <td>1.000000</td>\n",
       "      <td>0.971954</td>\n",
       "      <td>1.000000</td>\n",
       "      <td>0.971954</td>\n",
       "      <td>1.000000</td>\n",
       "      <td>0.971954</td>\n",
       "      <td>1.000000</td>\n",
       "    </tr>\n",
       "    <tr>\n",
       "      <th>2</th>\n",
       "      <td>SVC</td>\n",
       "      <td>0.973888</td>\n",
       "      <td>0.980583</td>\n",
       "      <td>0.973888</td>\n",
       "      <td>0.980583</td>\n",
       "      <td>0.973888</td>\n",
       "      <td>0.980583</td>\n",
       "      <td>0.973888</td>\n",
       "      <td>0.980583</td>\n",
       "    </tr>\n",
       "    <tr>\n",
       "      <th>3</th>\n",
       "      <td>ETC</td>\n",
       "      <td>0.975822</td>\n",
       "      <td>0.971963</td>\n",
       "      <td>0.975822</td>\n",
       "      <td>0.971963</td>\n",
       "      <td>0.975822</td>\n",
       "      <td>0.971963</td>\n",
       "      <td>0.975822</td>\n",
       "      <td>0.971963</td>\n",
       "    </tr>\n",
       "    <tr>\n",
       "      <th>4</th>\n",
       "      <td>RF</td>\n",
       "      <td>0.967118</td>\n",
       "      <td>0.969388</td>\n",
       "      <td>0.967118</td>\n",
       "      <td>0.969388</td>\n",
       "      <td>0.967118</td>\n",
       "      <td>0.969388</td>\n",
       "      <td>0.967118</td>\n",
       "      <td>0.969388</td>\n",
       "    </tr>\n",
       "    <tr>\n",
       "      <th>5</th>\n",
       "      <td>GBDT</td>\n",
       "      <td>0.945841</td>\n",
       "      <td>0.937500</td>\n",
       "      <td>0.945841</td>\n",
       "      <td>0.937500</td>\n",
       "      <td>0.945841</td>\n",
       "      <td>0.937500</td>\n",
       "      <td>0.945841</td>\n",
       "      <td>0.937500</td>\n",
       "    </tr>\n",
       "    <tr>\n",
       "      <th>6</th>\n",
       "      <td>AdaBoost</td>\n",
       "      <td>0.966151</td>\n",
       "      <td>0.933333</td>\n",
       "      <td>0.966151</td>\n",
       "      <td>0.933333</td>\n",
       "      <td>0.966151</td>\n",
       "      <td>0.933333</td>\n",
       "      <td>0.966151</td>\n",
       "      <td>0.933333</td>\n",
       "    </tr>\n",
       "    <tr>\n",
       "      <th>7</th>\n",
       "      <td>xgb</td>\n",
       "      <td>0.966151</td>\n",
       "      <td>0.933333</td>\n",
       "      <td>0.966151</td>\n",
       "      <td>0.933333</td>\n",
       "      <td>0.966151</td>\n",
       "      <td>0.933333</td>\n",
       "      <td>0.966151</td>\n",
       "      <td>0.933333</td>\n",
       "    </tr>\n",
       "    <tr>\n",
       "      <th>8</th>\n",
       "      <td>LR</td>\n",
       "      <td>0.949710</td>\n",
       "      <td>0.930233</td>\n",
       "      <td>0.949710</td>\n",
       "      <td>0.930233</td>\n",
       "      <td>0.949710</td>\n",
       "      <td>0.930233</td>\n",
       "      <td>0.949710</td>\n",
       "      <td>0.930233</td>\n",
       "    </tr>\n",
       "    <tr>\n",
       "      <th>9</th>\n",
       "      <td>DT</td>\n",
       "      <td>0.941006</td>\n",
       "      <td>0.891566</td>\n",
       "      <td>0.941006</td>\n",
       "      <td>0.891566</td>\n",
       "      <td>0.941006</td>\n",
       "      <td>0.891566</td>\n",
       "      <td>0.941006</td>\n",
       "      <td>0.891566</td>\n",
       "    </tr>\n",
       "    <tr>\n",
       "      <th>10</th>\n",
       "      <td>BgC</td>\n",
       "      <td>0.961315</td>\n",
       "      <td>0.877193</td>\n",
       "      <td>0.961315</td>\n",
       "      <td>0.877193</td>\n",
       "      <td>0.961315</td>\n",
       "      <td>0.877193</td>\n",
       "      <td>0.961315</td>\n",
       "      <td>0.877193</td>\n",
       "    </tr>\n",
       "  </tbody>\n",
       "</table>\n",
       "</div>"
      ],
      "text/plain": [
       "   Algorithm  Accuracy  Precision  Accuracy_scaling_x  Precision_scaling_x  \\\n",
       "0         KN  0.918762   1.000000            0.918762             1.000000   \n",
       "1         NB  0.971954   1.000000            0.971954             1.000000   \n",
       "2        SVC  0.973888   0.980583            0.973888             0.980583   \n",
       "3        ETC  0.975822   0.971963            0.975822             0.971963   \n",
       "4         RF  0.967118   0.969388            0.967118             0.969388   \n",
       "5       GBDT  0.945841   0.937500            0.945841             0.937500   \n",
       "6   AdaBoost  0.966151   0.933333            0.966151             0.933333   \n",
       "7        xgb  0.966151   0.933333            0.966151             0.933333   \n",
       "8         LR  0.949710   0.930233            0.949710             0.930233   \n",
       "9         DT  0.941006   0.891566            0.941006             0.891566   \n",
       "10       BgC  0.961315   0.877193            0.961315             0.877193   \n",
       "\n",
       "    Accuracy_scaling_y  Precision_scaling_y  Accuracy_num_chars  \\\n",
       "0             0.918762             1.000000            0.918762   \n",
       "1             0.971954             1.000000            0.971954   \n",
       "2             0.973888             0.980583            0.973888   \n",
       "3             0.975822             0.971963            0.975822   \n",
       "4             0.967118             0.969388            0.967118   \n",
       "5             0.945841             0.937500            0.945841   \n",
       "6             0.966151             0.933333            0.966151   \n",
       "7             0.966151             0.933333            0.966151   \n",
       "8             0.949710             0.930233            0.949710   \n",
       "9             0.941006             0.891566            0.941006   \n",
       "10            0.961315             0.877193            0.961315   \n",
       "\n",
       "    Precision_num_chars  \n",
       "0              1.000000  \n",
       "1              1.000000  \n",
       "2              0.980583  \n",
       "3              0.971963  \n",
       "4              0.969388  \n",
       "5              0.937500  \n",
       "6              0.933333  \n",
       "7              0.933333  \n",
       "8              0.930233  \n",
       "9              0.891566  \n",
       "10             0.877193  "
      ]
     },
     "execution_count": 58,
     "metadata": {},
     "output_type": "execute_result"
    }
   ],
   "source": [
    "new_df_scaled.merge(temp_df,on='Algorithm')\n"
   ]
  },
  {
   "cell_type": "code",
   "execution_count": 59,
   "id": "d7b7e6a7",
   "metadata": {},
   "outputs": [],
   "source": [
    "# Voting Classifier\n",
    "svc = SVC(kernel='sigmoid', gamma=1.0,probability=True)\n",
    "mnb = MultinomialNB()\n",
    "etc = ExtraTreesClassifier(n_estimators=50, random_state=2)\n",
    "\n",
    "from sklearn.ensemble import VotingClassifier"
   ]
  },
  {
   "cell_type": "code",
   "execution_count": 60,
   "id": "78ea3e1d",
   "metadata": {},
   "outputs": [],
   "source": [
    "voting = VotingClassifier(estimators=[('svm', svc), ('nb', mnb), ('et', etc)],voting='soft')"
   ]
  },
  {
   "cell_type": "code",
   "execution_count": 61,
   "id": "2cd30f6d",
   "metadata": {},
   "outputs": [
    {
     "data": {
      "text/html": [
       "<style>#sk-container-id-1 {color: black;}#sk-container-id-1 pre{padding: 0;}#sk-container-id-1 div.sk-toggleable {background-color: white;}#sk-container-id-1 label.sk-toggleable__label {cursor: pointer;display: block;width: 100%;margin-bottom: 0;padding: 0.3em;box-sizing: border-box;text-align: center;}#sk-container-id-1 label.sk-toggleable__label-arrow:before {content: \"▸\";float: left;margin-right: 0.25em;color: #696969;}#sk-container-id-1 label.sk-toggleable__label-arrow:hover:before {color: black;}#sk-container-id-1 div.sk-estimator:hover label.sk-toggleable__label-arrow:before {color: black;}#sk-container-id-1 div.sk-toggleable__content {max-height: 0;max-width: 0;overflow: hidden;text-align: left;background-color: #f0f8ff;}#sk-container-id-1 div.sk-toggleable__content pre {margin: 0.2em;color: black;border-radius: 0.25em;background-color: #f0f8ff;}#sk-container-id-1 input.sk-toggleable__control:checked~div.sk-toggleable__content {max-height: 200px;max-width: 100%;overflow: auto;}#sk-container-id-1 input.sk-toggleable__control:checked~label.sk-toggleable__label-arrow:before {content: \"▾\";}#sk-container-id-1 div.sk-estimator input.sk-toggleable__control:checked~label.sk-toggleable__label {background-color: #d4ebff;}#sk-container-id-1 div.sk-label input.sk-toggleable__control:checked~label.sk-toggleable__label {background-color: #d4ebff;}#sk-container-id-1 input.sk-hidden--visually {border: 0;clip: rect(1px 1px 1px 1px);clip: rect(1px, 1px, 1px, 1px);height: 1px;margin: -1px;overflow: hidden;padding: 0;position: absolute;width: 1px;}#sk-container-id-1 div.sk-estimator {font-family: monospace;background-color: #f0f8ff;border: 1px dotted black;border-radius: 0.25em;box-sizing: border-box;margin-bottom: 0.5em;}#sk-container-id-1 div.sk-estimator:hover {background-color: #d4ebff;}#sk-container-id-1 div.sk-parallel-item::after {content: \"\";width: 100%;border-bottom: 1px solid gray;flex-grow: 1;}#sk-container-id-1 div.sk-label:hover label.sk-toggleable__label {background-color: #d4ebff;}#sk-container-id-1 div.sk-serial::before {content: \"\";position: absolute;border-left: 1px solid gray;box-sizing: border-box;top: 0;bottom: 0;left: 50%;z-index: 0;}#sk-container-id-1 div.sk-serial {display: flex;flex-direction: column;align-items: center;background-color: white;padding-right: 0.2em;padding-left: 0.2em;position: relative;}#sk-container-id-1 div.sk-item {position: relative;z-index: 1;}#sk-container-id-1 div.sk-parallel {display: flex;align-items: stretch;justify-content: center;background-color: white;position: relative;}#sk-container-id-1 div.sk-item::before, #sk-container-id-1 div.sk-parallel-item::before {content: \"\";position: absolute;border-left: 1px solid gray;box-sizing: border-box;top: 0;bottom: 0;left: 50%;z-index: -1;}#sk-container-id-1 div.sk-parallel-item {display: flex;flex-direction: column;z-index: 1;position: relative;background-color: white;}#sk-container-id-1 div.sk-parallel-item:first-child::after {align-self: flex-end;width: 50%;}#sk-container-id-1 div.sk-parallel-item:last-child::after {align-self: flex-start;width: 50%;}#sk-container-id-1 div.sk-parallel-item:only-child::after {width: 0;}#sk-container-id-1 div.sk-dashed-wrapped {border: 1px dashed gray;margin: 0 0.4em 0.5em 0.4em;box-sizing: border-box;padding-bottom: 0.4em;background-color: white;}#sk-container-id-1 div.sk-label label {font-family: monospace;font-weight: bold;display: inline-block;line-height: 1.2em;}#sk-container-id-1 div.sk-label-container {text-align: center;}#sk-container-id-1 div.sk-container {/* jupyter's `normalize.less` sets `[hidden] { display: none; }` but bootstrap.min.css set `[hidden] { display: none !important; }` so we also need the `!important` here to be able to override the default hidden behavior on the sphinx rendered scikit-learn.org. See: https://github.com/scikit-learn/scikit-learn/issues/21755 */display: inline-block !important;position: relative;}#sk-container-id-1 div.sk-text-repr-fallback {display: none;}</style><div id=\"sk-container-id-1\" class=\"sk-top-container\"><div class=\"sk-text-repr-fallback\"><pre>VotingClassifier(estimators=[(&#x27;svm&#x27;,\n",
       "                              SVC(gamma=1.0, kernel=&#x27;sigmoid&#x27;,\n",
       "                                  probability=True)),\n",
       "                             (&#x27;nb&#x27;, MultinomialNB()),\n",
       "                             (&#x27;et&#x27;,\n",
       "                              ExtraTreesClassifier(n_estimators=50,\n",
       "                                                   random_state=2))],\n",
       "                 voting=&#x27;soft&#x27;)</pre><b>In a Jupyter environment, please rerun this cell to show the HTML representation or trust the notebook. <br />On GitHub, the HTML representation is unable to render, please try loading this page with nbviewer.org.</b></div><div class=\"sk-container\" hidden><div class=\"sk-item sk-dashed-wrapped\"><div class=\"sk-label-container\"><div class=\"sk-label sk-toggleable\"><input class=\"sk-toggleable__control sk-hidden--visually\" id=\"sk-estimator-id-1\" type=\"checkbox\" ><label for=\"sk-estimator-id-1\" class=\"sk-toggleable__label sk-toggleable__label-arrow\">VotingClassifier</label><div class=\"sk-toggleable__content\"><pre>VotingClassifier(estimators=[(&#x27;svm&#x27;,\n",
       "                              SVC(gamma=1.0, kernel=&#x27;sigmoid&#x27;,\n",
       "                                  probability=True)),\n",
       "                             (&#x27;nb&#x27;, MultinomialNB()),\n",
       "                             (&#x27;et&#x27;,\n",
       "                              ExtraTreesClassifier(n_estimators=50,\n",
       "                                                   random_state=2))],\n",
       "                 voting=&#x27;soft&#x27;)</pre></div></div></div><div class=\"sk-parallel\"><div class=\"sk-parallel-item\"><div class=\"sk-item\"><div class=\"sk-label-container\"><div class=\"sk-label sk-toggleable\"><label>svm</label></div></div><div class=\"sk-serial\"><div class=\"sk-item\"><div class=\"sk-estimator sk-toggleable\"><input class=\"sk-toggleable__control sk-hidden--visually\" id=\"sk-estimator-id-2\" type=\"checkbox\" ><label for=\"sk-estimator-id-2\" class=\"sk-toggleable__label sk-toggleable__label-arrow\">SVC</label><div class=\"sk-toggleable__content\"><pre>SVC(gamma=1.0, kernel=&#x27;sigmoid&#x27;, probability=True)</pre></div></div></div></div></div></div><div class=\"sk-parallel-item\"><div class=\"sk-item\"><div class=\"sk-label-container\"><div class=\"sk-label sk-toggleable\"><label>nb</label></div></div><div class=\"sk-serial\"><div class=\"sk-item\"><div class=\"sk-estimator sk-toggleable\"><input class=\"sk-toggleable__control sk-hidden--visually\" id=\"sk-estimator-id-3\" type=\"checkbox\" ><label for=\"sk-estimator-id-3\" class=\"sk-toggleable__label sk-toggleable__label-arrow\">MultinomialNB</label><div class=\"sk-toggleable__content\"><pre>MultinomialNB()</pre></div></div></div></div></div></div><div class=\"sk-parallel-item\"><div class=\"sk-item\"><div class=\"sk-label-container\"><div class=\"sk-label sk-toggleable\"><label>et</label></div></div><div class=\"sk-serial\"><div class=\"sk-item\"><div class=\"sk-estimator sk-toggleable\"><input class=\"sk-toggleable__control sk-hidden--visually\" id=\"sk-estimator-id-4\" type=\"checkbox\" ><label for=\"sk-estimator-id-4\" class=\"sk-toggleable__label sk-toggleable__label-arrow\">ExtraTreesClassifier</label><div class=\"sk-toggleable__content\"><pre>ExtraTreesClassifier(n_estimators=50, random_state=2)</pre></div></div></div></div></div></div></div></div></div></div>"
      ],
      "text/plain": [
       "VotingClassifier(estimators=[('svm',\n",
       "                              SVC(gamma=1.0, kernel='sigmoid',\n",
       "                                  probability=True)),\n",
       "                             ('nb', MultinomialNB()),\n",
       "                             ('et',\n",
       "                              ExtraTreesClassifier(n_estimators=50,\n",
       "                                                   random_state=2))],\n",
       "                 voting='soft')"
      ]
     },
     "execution_count": 61,
     "metadata": {},
     "output_type": "execute_result"
    }
   ],
   "source": [
    "voting.fit(X_train,y_train)"
   ]
  },
  {
   "cell_type": "code",
   "execution_count": 62,
   "id": "7bbfeadd",
   "metadata": {},
   "outputs": [
    {
     "name": "stdout",
     "output_type": "stream",
     "text": [
      "Accuracy 0.9777562862669246\n",
      "Precision 0.9904761904761905\n"
     ]
    }
   ],
   "source": [
    "y_pred = voting.predict(X_test)\n",
    "print(\"Accuracy\",accuracy_score(y_test,y_pred))\n",
    "print(\"Precision\",precision_score(y_test,y_pred))"
   ]
  },
  {
   "cell_type": "code",
   "execution_count": 63,
   "id": "3a5d8679",
   "metadata": {},
   "outputs": [],
   "source": [
    "# Applying stacking\n",
    "estimators=[('svm', svc), ('nb', mnb), ('et', etc)]\n",
    "final_estimator=RandomForestClassifier()"
   ]
  },
  {
   "cell_type": "code",
   "execution_count": 64,
   "id": "280a209d",
   "metadata": {},
   "outputs": [],
   "source": [
    "from sklearn.ensemble import StackingClassifier"
   ]
  },
  {
   "cell_type": "code",
   "execution_count": 65,
   "id": "9fe25c23",
   "metadata": {},
   "outputs": [],
   "source": [
    "clf = StackingClassifier(estimators=estimators, final_estimator=final_estimator)"
   ]
  },
  {
   "cell_type": "code",
   "execution_count": 66,
   "id": "2e14ab00",
   "metadata": {},
   "outputs": [
    {
     "name": "stdout",
     "output_type": "stream",
     "text": [
      "Accuracy 0.9845261121856866\n",
      "Precision 0.9824561403508771\n"
     ]
    }
   ],
   "source": [
    "clf.fit(X_train,y_train)\n",
    "y_pred = clf.predict(X_test)\n",
    "print(\"Accuracy\",accuracy_score(y_test,y_pred))\n",
    "print(\"Precision\",precision_score(y_test,y_pred))"
   ]
  },
  {
   "cell_type": "markdown",
   "id": "5894b7b0",
   "metadata": {},
   "source": [
    "from sklearn.naive_bayes import MultinomialNB\n",
    "\n",
    "# Load your training data and preprocess it\n",
    "\n",
    "# Instantiate the MultinomialNB classifier\n",
    "model = MultinomialNB()\n",
    "\n",
    "# Fit the model on your training data\n",
    "model.fit(X_train, y_train)\n"
   ]
  },
  {
   "cell_type": "code",
   "execution_count": 67,
   "id": "91fe1fec",
   "metadata": {},
   "outputs": [],
   "source": [
    "from sklearn.naive_bayes import MultinomialNB\n",
    "\n",
    "# Load your training data and preprocess it\n",
    "\n",
    "# Instantiate the MultinomialNB classifier\n",
    "model = MultinomialNB()\n",
    "\n",
    "# Fit the model on your training data\n",
    "mnb=model.fit(X_train, y_train)"
   ]
  },
  {
   "cell_type": "code",
   "execution_count": 68,
   "id": "edafc087",
   "metadata": {},
   "outputs": [],
   "source": [
    "import pickle\n",
    "pickle.dump(tfidf,open('vectorizer.pkl','wb'))\n",
    "pickle.dump(mnb,open('model.pkl','wb'))"
   ]
  },
  {
   "cell_type": "code",
   "execution_count": null,
   "id": "1ec2e346",
   "metadata": {},
   "outputs": [],
   "source": []
  },
  {
   "cell_type": "code",
   "execution_count": null,
   "id": "e98eccb2",
   "metadata": {},
   "outputs": [],
   "source": []
  },
  {
   "cell_type": "code",
   "execution_count": null,
   "id": "5aa2422c",
   "metadata": {},
   "outputs": [],
   "source": []
  },
  {
   "cell_type": "code",
   "execution_count": null,
   "id": "9f63ed6a",
   "metadata": {},
   "outputs": [],
   "source": []
  },
  {
   "cell_type": "code",
   "execution_count": null,
   "id": "fad47a9a",
   "metadata": {},
   "outputs": [],
   "source": []
  },
  {
   "cell_type": "code",
   "execution_count": null,
   "id": "67137a9c",
   "metadata": {},
   "outputs": [],
   "source": []
  },
  {
   "cell_type": "code",
   "execution_count": null,
   "id": "59de719e",
   "metadata": {},
   "outputs": [],
   "source": []
  },
  {
   "cell_type": "code",
   "execution_count": null,
   "id": "7a1f8148",
   "metadata": {},
   "outputs": [],
   "source": []
  }
 ],
 "metadata": {
  "kernelspec": {
   "display_name": "Python 3 (ipykernel)",
   "language": "python",
   "name": "python3"
  },
  "language_info": {
   "codemirror_mode": {
    "name": "ipython",
    "version": 3
   },
   "file_extension": ".py",
   "mimetype": "text/x-python",
   "name": "python",
   "nbconvert_exporter": "python",
   "pygments_lexer": "ipython3",
   "version": "3.10.9"
  }
 },
 "nbformat": 4,
 "nbformat_minor": 5
}
